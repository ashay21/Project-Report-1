{
 "cells": [
  {
   "cell_type": "markdown",
   "id": "d908c4e9",
   "metadata": {},
   "source": [
    "**Q1 Represent the data in Numpy array to perform following actions**"
   ]
  },
  {
   "cell_type": "markdown",
   "id": "ca692c72",
   "metadata": {},
   "source": [
    "***Downloaded the excel file in csv format and then imported csv and numpy , created an empty list and added the data of csv to that list***"
   ]
  },
  {
   "cell_type": "code",
   "execution_count": 1,
   "id": "8da8682f",
   "metadata": {},
   "outputs": [],
   "source": [
    "import csv"
   ]
  },
  {
   "cell_type": "code",
   "execution_count": 2,
   "id": "c40dfdf3",
   "metadata": {},
   "outputs": [],
   "source": [
    "import numpy as np"
   ]
  },
  {
   "cell_type": "code",
   "execution_count": 3,
   "id": "164503f2",
   "metadata": {},
   "outputs": [],
   "source": [
    "data=[]"
   ]
  },
  {
   "cell_type": "code",
   "execution_count": 4,
   "id": "57d04f7e",
   "metadata": {},
   "outputs": [],
   "source": [
    "with open(r\"C:\\Users\\cool_adarsh\\Downloads\\SampleTemperature Sheet - mysheet-csv.csv\",'r') as csvfile2:\n",
    "    file_reader=csv.reader(csvfile2,delimiter=',')\n",
    "    for row in file_reader:\n",
    "        data.append(row)\n",
    "data=np.array(data)"
   ]
  },
  {
   "cell_type": "code",
   "execution_count": 5,
   "id": "79c2edea",
   "metadata": {},
   "outputs": [
    {
     "data": {
      "text/plain": [
       "array([['Temprature Sheet', '', '', '', '', '', '', '', '', '', '', '',\n",
       "        '', '', '', ''],\n",
       "       ['', '', '', '', '', '', '', '', '', '', '', '', '', '', '', ''],\n",
       "       ['Month', 'Week', 'Monday', '', 'Tuesday', '', 'Wednesday', '',\n",
       "        'Thursday', '', 'Friday', '', 'Saturday', '', 'Sunday', ''],\n",
       "       ['November', '', 'Min Temp', 'Max Temp', 'Min Temp', 'Max Temp',\n",
       "        'Min Temp', 'Max Temp', 'Min Temp', 'Max Temp', 'Min Temp',\n",
       "        'Max Temp', 'Min Temp', 'Max Temp', 'Min Temp', 'Max Temp'],\n",
       "       ['', 'Week 1', '6', '32', '8', '29', '14', '31', '13', '27', '12',\n",
       "        '29', '14', '23', '6', '27'],\n",
       "       ['', 'Week 2', '13', '21', '14', '26', '15', '32', '-13', '29',\n",
       "        '14', '29', '13', '30', '11', '30'],\n",
       "       ['', 'Week 3', '10', '22', '7', '20', '13', '21', '10', '30',\n",
       "        '11', '21', '10', '28', '7', '21'],\n",
       "       ['', 'Week 4', '7', '20', '8', '31', '8', '32', '8', '24', '8',\n",
       "        '32', '6', '21', '8', '30'],\n",
       "       ['December', 'Week 1', '14', '28', '14', '26', '15', '22', '6',\n",
       "        '27', '9', '31', '11', '23', '14', '26'],\n",
       "       ['', 'Week 2', '6', '32', '11', '32', '11', '21', '9', '28', '13',\n",
       "        '23', '7', '28', '15', '21'],\n",
       "       ['', 'Week 3', '11', '28', '15', '27', '13', '32', '8', '22',\n",
       "        '11', '28', '11', '23', '11', '30'],\n",
       "       ['', 'Week 4', '7', '27', '8', '25', '6', '21', '6', '32', '15',\n",
       "        '20', '15', '22', '15', '23'],\n",
       "       ['January', 'Week 1', '2', '22', '8', '21', '2', '19', '6', '21',\n",
       "        '5', '19', '2', '7', '19', '7'],\n",
       "       ['', 'Week 2', '4', '18', '8', '19', '4', '21', '4', '21', '3',\n",
       "        '22', '2', '2', '22', '6'],\n",
       "       ['', 'Week 3', '7', '18', '7', '18', '4', '21', '6', '19', '8',\n",
       "        '22', '7', '5', '22', '5'],\n",
       "       ['', 'Week 4', '4', '21', '8', '19', '8', '18', '2', '18', '7',\n",
       "        '18', '3', '6', '18', '8'],\n",
       "       ['February', 'Week 1', '11', '21', '11', '21', '-10', '20', '7',\n",
       "        '22', '12', '19', '11', '71', '20', '12'],\n",
       "       ['', 'Week 2', '12', '22', '9', '20', '8', '20', '7', '20', '8',\n",
       "        '19', '11', '7', '22', '7'],\n",
       "       ['', 'Week 3', '10', '18', '8', '18', '11', '21', '11', '22',\n",
       "        '12', '21', '11', '9', '19', '10'],\n",
       "       ['', 'Week 4', '11', '22', '12', '21', '12', '19', '7', '19',\n",
       "        '10', '20', '12', '9', '22', '12']], dtype='<U16')"
      ]
     },
     "execution_count": 5,
     "metadata": {},
     "output_type": "execute_result"
    }
   ],
   "source": [
    "data"
   ]
  },
  {
   "cell_type": "code",
   "execution_count": 6,
   "id": "96034ff1",
   "metadata": {},
   "outputs": [],
   "source": [
    "data=np.delete(data,0,axis=0)"
   ]
  },
  {
   "cell_type": "code",
   "execution_count": 7,
   "id": "8bc8f4b4",
   "metadata": {},
   "outputs": [],
   "source": [
    "data=np.delete(data,0,axis=0)"
   ]
  },
  {
   "cell_type": "code",
   "execution_count": 8,
   "id": "a3909afa",
   "metadata": {},
   "outputs": [
    {
     "data": {
      "text/plain": [
       "array([['', 'Week 1', '6', '32', '8', '29', '14', '31', '13', '27', '12',\n",
       "        '29', '14', '23', '6', '27'],\n",
       "       ['', 'Week 2', '13', '21', '14', '26', '15', '32', '-13', '29',\n",
       "        '14', '29', '13', '30', '11', '30'],\n",
       "       ['', 'Week 3', '10', '22', '7', '20', '13', '21', '10', '30',\n",
       "        '11', '21', '10', '28', '7', '21'],\n",
       "       ['', 'Week 4', '7', '20', '8', '31', '8', '32', '8', '24', '8',\n",
       "        '32', '6', '21', '8', '30'],\n",
       "       ['December', 'Week 1', '14', '28', '14', '26', '15', '22', '6',\n",
       "        '27', '9', '31', '11', '23', '14', '26'],\n",
       "       ['', 'Week 2', '6', '32', '11', '32', '11', '21', '9', '28', '13',\n",
       "        '23', '7', '28', '15', '21'],\n",
       "       ['', 'Week 3', '11', '28', '15', '27', '13', '32', '8', '22',\n",
       "        '11', '28', '11', '23', '11', '30'],\n",
       "       ['', 'Week 4', '7', '27', '8', '25', '6', '21', '6', '32', '15',\n",
       "        '20', '15', '22', '15', '23'],\n",
       "       ['January', 'Week 1', '2', '22', '8', '21', '2', '19', '6', '21',\n",
       "        '5', '19', '2', '7', '19', '7'],\n",
       "       ['', 'Week 2', '4', '18', '8', '19', '4', '21', '4', '21', '3',\n",
       "        '22', '2', '2', '22', '6'],\n",
       "       ['', 'Week 3', '7', '18', '7', '18', '4', '21', '6', '19', '8',\n",
       "        '22', '7', '5', '22', '5'],\n",
       "       ['', 'Week 4', '4', '21', '8', '19', '8', '18', '2', '18', '7',\n",
       "        '18', '3', '6', '18', '8'],\n",
       "       ['February', 'Week 1', '11', '21', '11', '21', '-10', '20', '7',\n",
       "        '22', '12', '19', '11', '71', '20', '12'],\n",
       "       ['', 'Week 2', '12', '22', '9', '20', '8', '20', '7', '20', '8',\n",
       "        '19', '11', '7', '22', '7'],\n",
       "       ['', 'Week 3', '10', '18', '8', '18', '11', '21', '11', '22',\n",
       "        '12', '21', '11', '9', '19', '10'],\n",
       "       ['', 'Week 4', '11', '22', '12', '21', '12', '19', '7', '19',\n",
       "        '10', '20', '12', '9', '22', '12']], dtype='<U16')"
      ]
     },
     "execution_count": 8,
     "metadata": {},
     "output_type": "execute_result"
    }
   ],
   "source": [
    "d1=data[2:,:]\n",
    "d1"
   ]
  },
  {
   "cell_type": "code",
   "execution_count": 9,
   "id": "372b834e",
   "metadata": {},
   "outputs": [
    {
     "data": {
      "text/plain": [
       "array([ True,  True,  True,  True, False,  True,  True,  True, False,\n",
       "        True,  True,  True, False,  True,  True,  True])"
      ]
     },
     "execution_count": 9,
     "metadata": {},
     "output_type": "execute_result"
    }
   ],
   "source": [
    "#condition for the blank space in column 1\n",
    "c1=d1[:,0]==''\n",
    "c1"
   ]
  },
  {
   "cell_type": "code",
   "execution_count": 10,
   "id": "358e4463",
   "metadata": {},
   "outputs": [],
   "source": [
    "#filling of column 1 with months name\n",
    "d1[:4,0:1] = 'November'\n",
    "d1[5:8,0:1] = 'December'\n",
    "d1[9:12,0:1] = 'January'\n",
    "d1[13:16,0:1] = 'February'"
   ]
  },
  {
   "cell_type": "code",
   "execution_count": 11,
   "id": "efbe7f30",
   "metadata": {},
   "outputs": [
    {
     "data": {
      "text/plain": [
       "array([['November', 'Week 1', '6', '32', '8', '29', '14', '31', '13',\n",
       "        '27', '12', '29', '14', '23', '6', '27'],\n",
       "       ['November', 'Week 2', '13', '21', '14', '26', '15', '32', '-13',\n",
       "        '29', '14', '29', '13', '30', '11', '30'],\n",
       "       ['November', 'Week 3', '10', '22', '7', '20', '13', '21', '10',\n",
       "        '30', '11', '21', '10', '28', '7', '21'],\n",
       "       ['November', 'Week 4', '7', '20', '8', '31', '8', '32', '8', '24',\n",
       "        '8', '32', '6', '21', '8', '30'],\n",
       "       ['December', 'Week 1', '14', '28', '14', '26', '15', '22', '6',\n",
       "        '27', '9', '31', '11', '23', '14', '26'],\n",
       "       ['December', 'Week 2', '6', '32', '11', '32', '11', '21', '9',\n",
       "        '28', '13', '23', '7', '28', '15', '21'],\n",
       "       ['December', 'Week 3', '11', '28', '15', '27', '13', '32', '8',\n",
       "        '22', '11', '28', '11', '23', '11', '30'],\n",
       "       ['December', 'Week 4', '7', '27', '8', '25', '6', '21', '6', '32',\n",
       "        '15', '20', '15', '22', '15', '23'],\n",
       "       ['January', 'Week 1', '2', '22', '8', '21', '2', '19', '6', '21',\n",
       "        '5', '19', '2', '7', '19', '7'],\n",
       "       ['January', 'Week 2', '4', '18', '8', '19', '4', '21', '4', '21',\n",
       "        '3', '22', '2', '2', '22', '6'],\n",
       "       ['January', 'Week 3', '7', '18', '7', '18', '4', '21', '6', '19',\n",
       "        '8', '22', '7', '5', '22', '5'],\n",
       "       ['January', 'Week 4', '4', '21', '8', '19', '8', '18', '2', '18',\n",
       "        '7', '18', '3', '6', '18', '8'],\n",
       "       ['February', 'Week 1', '11', '21', '11', '21', '-10', '20', '7',\n",
       "        '22', '12', '19', '11', '71', '20', '12'],\n",
       "       ['February', 'Week 2', '12', '22', '9', '20', '8', '20', '7',\n",
       "        '20', '8', '19', '11', '7', '22', '7'],\n",
       "       ['February', 'Week 3', '10', '18', '8', '18', '11', '21', '11',\n",
       "        '22', '12', '21', '11', '9', '19', '10'],\n",
       "       ['February', 'Week 4', '11', '22', '12', '21', '12', '19', '7',\n",
       "        '19', '10', '20', '12', '9', '22', '12']], dtype='<U16')"
      ]
     },
     "execution_count": 11,
     "metadata": {},
     "output_type": "execute_result"
    }
   ],
   "source": [
    "d1"
   ]
  },
  {
   "cell_type": "code",
   "execution_count": 12,
   "id": "0c731cd6",
   "metadata": {},
   "outputs": [
    {
     "data": {
      "text/plain": [
       "array([['Month', 'Week', 'Monday', '', 'Tuesday', '', 'Wednesday', '',\n",
       "        'Thursday', '', 'Friday', '', 'Saturday', '', 'Sunday', ''],\n",
       "       ['November', '', 'Min Temp', 'Max Temp', 'Min Temp', 'Max Temp',\n",
       "        'Min Temp', 'Max Temp', 'Min Temp', 'Max Temp', 'Min Temp',\n",
       "        'Max Temp', 'Min Temp', 'Max Temp', 'Min Temp', 'Max Temp'],\n",
       "       ['November', 'Week 1', '6', '32', '8', '29', '14', '31', '13',\n",
       "        '27', '12', '29', '14', '23', '6', '27'],\n",
       "       ['November', 'Week 2', '13', '21', '14', '26', '15', '32', '-13',\n",
       "        '29', '14', '29', '13', '30', '11', '30'],\n",
       "       ['November', 'Week 3', '10', '22', '7', '20', '13', '21', '10',\n",
       "        '30', '11', '21', '10', '28', '7', '21'],\n",
       "       ['November', 'Week 4', '7', '20', '8', '31', '8', '32', '8', '24',\n",
       "        '8', '32', '6', '21', '8', '30'],\n",
       "       ['December', 'Week 1', '14', '28', '14', '26', '15', '22', '6',\n",
       "        '27', '9', '31', '11', '23', '14', '26'],\n",
       "       ['December', 'Week 2', '6', '32', '11', '32', '11', '21', '9',\n",
       "        '28', '13', '23', '7', '28', '15', '21'],\n",
       "       ['December', 'Week 3', '11', '28', '15', '27', '13', '32', '8',\n",
       "        '22', '11', '28', '11', '23', '11', '30'],\n",
       "       ['December', 'Week 4', '7', '27', '8', '25', '6', '21', '6', '32',\n",
       "        '15', '20', '15', '22', '15', '23'],\n",
       "       ['January', 'Week 1', '2', '22', '8', '21', '2', '19', '6', '21',\n",
       "        '5', '19', '2', '7', '19', '7'],\n",
       "       ['January', 'Week 2', '4', '18', '8', '19', '4', '21', '4', '21',\n",
       "        '3', '22', '2', '2', '22', '6'],\n",
       "       ['January', 'Week 3', '7', '18', '7', '18', '4', '21', '6', '19',\n",
       "        '8', '22', '7', '5', '22', '5'],\n",
       "       ['January', 'Week 4', '4', '21', '8', '19', '8', '18', '2', '18',\n",
       "        '7', '18', '3', '6', '18', '8'],\n",
       "       ['February', 'Week 1', '11', '21', '11', '21', '-10', '20', '7',\n",
       "        '22', '12', '19', '11', '71', '20', '12'],\n",
       "       ['February', 'Week 2', '12', '22', '9', '20', '8', '20', '7',\n",
       "        '20', '8', '19', '11', '7', '22', '7'],\n",
       "       ['February', 'Week 3', '10', '18', '8', '18', '11', '21', '11',\n",
       "        '22', '12', '21', '11', '9', '19', '10'],\n",
       "       ['February', 'Week 4', '11', '22', '12', '21', '12', '19', '7',\n",
       "        '19', '10', '20', '12', '9', '22', '12']], dtype='<U16')"
      ]
     },
     "execution_count": 12,
     "metadata": {},
     "output_type": "execute_result"
    }
   ],
   "source": [
    "# merging title\n",
    "d2=np.vstack((data[0:2,:],d1))\n",
    "d2"
   ]
  },
  {
   "cell_type": "code",
   "execution_count": 13,
   "id": "e87216c6",
   "metadata": {},
   "outputs": [
    {
     "data": {
      "text/plain": [
       "array([[False, False, False,  True, False,  True, False,  True, False,\n",
       "         True, False,  True, False,  True, False,  True]])"
      ]
     },
     "execution_count": 13,
     "metadata": {},
     "output_type": "execute_result"
    }
   ],
   "source": [
    "#filling of blank space in row2\n",
    "c2=data[0:1,:]==''\n",
    "c2"
   ]
  },
  {
   "cell_type": "code",
   "execution_count": 14,
   "id": "719677a6",
   "metadata": {},
   "outputs": [],
   "source": [
    "data[0:1,3:4]='Monday'\n",
    "data[0:1,5:6]='Tuesday'\n",
    "data[0:1,7:8]='Wednesday'\n",
    "data[0:1,9:10]='Thursday'\n",
    "data[0:1,11:12]='Friday'\n",
    "data[0:1,13:14]='Saturday'\n",
    "data[0:1,15:16]='Sunday'\n"
   ]
  },
  {
   "cell_type": "code",
   "execution_count": 15,
   "id": "56358ad1",
   "metadata": {},
   "outputs": [
    {
     "data": {
      "text/plain": [
       "array([['Month', 'Week', 'Monday', 'Monday', 'Tuesday', 'Tuesday',\n",
       "        'Wednesday', 'Wednesday', 'Thursday', 'Thursday', 'Friday',\n",
       "        'Friday', 'Saturday', 'Saturday', 'Sunday', 'Sunday'],\n",
       "       ['November', '', 'Min Temp', 'Max Temp', 'Min Temp', 'Max Temp',\n",
       "        'Min Temp', 'Max Temp', 'Min Temp', 'Max Temp', 'Min Temp',\n",
       "        'Max Temp', 'Min Temp', 'Max Temp', 'Min Temp', 'Max Temp'],\n",
       "       ['November', 'Week 1', '6', '32', '8', '29', '14', '31', '13',\n",
       "        '27', '12', '29', '14', '23', '6', '27'],\n",
       "       ['November', 'Week 2', '13', '21', '14', '26', '15', '32', '-13',\n",
       "        '29', '14', '29', '13', '30', '11', '30'],\n",
       "       ['November', 'Week 3', '10', '22', '7', '20', '13', '21', '10',\n",
       "        '30', '11', '21', '10', '28', '7', '21'],\n",
       "       ['November', 'Week 4', '7', '20', '8', '31', '8', '32', '8', '24',\n",
       "        '8', '32', '6', '21', '8', '30'],\n",
       "       ['December', 'Week 1', '14', '28', '14', '26', '15', '22', '6',\n",
       "        '27', '9', '31', '11', '23', '14', '26'],\n",
       "       ['December', 'Week 2', '6', '32', '11', '32', '11', '21', '9',\n",
       "        '28', '13', '23', '7', '28', '15', '21'],\n",
       "       ['December', 'Week 3', '11', '28', '15', '27', '13', '32', '8',\n",
       "        '22', '11', '28', '11', '23', '11', '30'],\n",
       "       ['December', 'Week 4', '7', '27', '8', '25', '6', '21', '6', '32',\n",
       "        '15', '20', '15', '22', '15', '23'],\n",
       "       ['January', 'Week 1', '2', '22', '8', '21', '2', '19', '6', '21',\n",
       "        '5', '19', '2', '7', '19', '7'],\n",
       "       ['January', 'Week 2', '4', '18', '8', '19', '4', '21', '4', '21',\n",
       "        '3', '22', '2', '2', '22', '6'],\n",
       "       ['January', 'Week 3', '7', '18', '7', '18', '4', '21', '6', '19',\n",
       "        '8', '22', '7', '5', '22', '5'],\n",
       "       ['January', 'Week 4', '4', '21', '8', '19', '8', '18', '2', '18',\n",
       "        '7', '18', '3', '6', '18', '8'],\n",
       "       ['February', 'Week 1', '11', '21', '11', '21', '-10', '20', '7',\n",
       "        '22', '12', '19', '11', '71', '20', '12'],\n",
       "       ['February', 'Week 2', '12', '22', '9', '20', '8', '20', '7',\n",
       "        '20', '8', '19', '11', '7', '22', '7'],\n",
       "       ['February', 'Week 3', '10', '18', '8', '18', '11', '21', '11',\n",
       "        '22', '12', '21', '11', '9', '19', '10'],\n",
       "       ['February', 'Week 4', '11', '22', '12', '21', '12', '19', '7',\n",
       "        '19', '10', '20', '12', '9', '22', '12']], dtype='<U16')"
      ]
     },
     "execution_count": 15,
     "metadata": {},
     "output_type": "execute_result"
    }
   ],
   "source": [
    "data"
   ]
  },
  {
   "cell_type": "markdown",
   "id": "d71dcbc5",
   "metadata": {},
   "source": [
    "**Q2 write the diamension and shape of the created array**"
   ]
  },
  {
   "cell_type": "markdown",
   "id": "ce1303f6",
   "metadata": {},
   "source": [
    "*to find the diamension we use the function array.ndim , and for shape we use array.shape*"
   ]
  },
  {
   "cell_type": "code",
   "execution_count": 16,
   "id": "f76fa5ac",
   "metadata": {},
   "outputs": [
    {
     "data": {
      "text/plain": [
       "2"
      ]
     },
     "execution_count": 16,
     "metadata": {},
     "output_type": "execute_result"
    }
   ],
   "source": [
    "data.ndim"
   ]
  },
  {
   "cell_type": "code",
   "execution_count": 17,
   "id": "046bb80c",
   "metadata": {},
   "outputs": [
    {
     "data": {
      "text/plain": [
       "(18, 16)"
      ]
     },
     "execution_count": 17,
     "metadata": {},
     "output_type": "execute_result"
    }
   ],
   "source": [
    "data.shape"
   ]
  },
  {
   "cell_type": "markdown",
   "id": "1c73b85d",
   "metadata": {},
   "source": [
    "**Q3 Print the daily temperature for the first week of each month**"
   ]
  },
  {
   "cell_type": "code",
   "execution_count": 18,
   "id": "deafd17c",
   "metadata": {},
   "outputs": [
    {
     "data": {
      "text/plain": [
       "array([['Month', 'Week', 'Monday', 'Monday', 'Tuesday', 'Tuesday',\n",
       "        'Wednesday', 'Wednesday', 'Thursday', 'Thursday', 'Friday',\n",
       "        'Friday', 'Saturday', 'Saturday', 'Sunday', 'Sunday'],\n",
       "       ['November', '', 'Min Temp', 'Max Temp', 'Min Temp', 'Max Temp',\n",
       "        'Min Temp', 'Max Temp', 'Min Temp', 'Max Temp', 'Min Temp',\n",
       "        'Max Temp', 'Min Temp', 'Max Temp', 'Min Temp', 'Max Temp'],\n",
       "       ['November', 'Week 1', '6', '32', '8', '29', '14', '31', '13',\n",
       "        '27', '12', '29', '14', '23', '6', '27'],\n",
       "       ['November', 'Week 2', '13', '21', '14', '26', '15', '32', '-13',\n",
       "        '29', '14', '29', '13', '30', '11', '30']], dtype='<U16')"
      ]
     },
     "execution_count": 18,
     "metadata": {},
     "output_type": "execute_result"
    }
   ],
   "source": [
    "data[0:4]"
   ]
  },
  {
   "cell_type": "code",
   "execution_count": 19,
   "id": "19b25e5a",
   "metadata": {},
   "outputs": [
    {
     "data": {
      "text/plain": [
       "array([False, False, False, False, False, False, False, False, False,\n",
       "       False, False, False, False, False, False, False, False, False])"
      ]
     },
     "execution_count": 19,
     "metadata": {},
     "output_type": "execute_result"
    }
   ],
   "source": [
    "cond_week1=data[:,1]=='week1'\n",
    "cond_week1"
   ]
  },
  {
   "cell_type": "code",
   "execution_count": 20,
   "id": "99b0cf4c",
   "metadata": {},
   "outputs": [
    {
     "data": {
      "text/plain": [
       "array([], shape=(0, 16), dtype='<U16')"
      ]
     },
     "execution_count": 20,
     "metadata": {},
     "output_type": "execute_result"
    }
   ],
   "source": [
    "data_1 = data[cond_week1]\n",
    "data_1 "
   ]
  },
  {
   "cell_type": "code",
   "execution_count": 21,
   "id": "f01a7775",
   "metadata": {},
   "outputs": [
    {
     "data": {
      "text/plain": [
       "array([['Month', 'Week', 'Monday', 'Monday', 'Tuesday', 'Tuesday',\n",
       "        'Wednesday', 'Wednesday', 'Thursday', 'Thursday', 'Friday',\n",
       "        'Friday', 'Saturday', 'Saturday', 'Sunday', 'Sunday'],\n",
       "       ['November', '', 'Min Temp', 'Max Temp', 'Min Temp', 'Max Temp',\n",
       "        'Min Temp', 'Max Temp', 'Min Temp', 'Max Temp', 'Min Temp',\n",
       "        'Max Temp', 'Min Temp', 'Max Temp', 'Min Temp', 'Max Temp']],\n",
       "      dtype='<U16')"
      ]
     },
     "execution_count": 21,
     "metadata": {},
     "output_type": "execute_result"
    }
   ],
   "source": [
    "week1=np.vstack((data[0:2],data_1))\n",
    "week1"
   ]
  },
  {
   "cell_type": "markdown",
   "id": "d4d299fe",
   "metadata": {},
   "source": [
    "**Q4 Print the temperature for tuesday of each month**"
   ]
  },
  {
   "cell_type": "code",
   "execution_count": 22,
   "id": "4c949f42",
   "metadata": {},
   "outputs": [],
   "source": [
    "temp=data[:,4:6]"
   ]
  },
  {
   "cell_type": "code",
   "execution_count": 23,
   "id": "5e74fcbd",
   "metadata": {},
   "outputs": [
    {
     "data": {
      "text/plain": [
       "array([['Tuesday', 'Tuesday'],\n",
       "       ['Min Temp', 'Max Temp'],\n",
       "       ['8', '29'],\n",
       "       ['14', '26'],\n",
       "       ['7', '20'],\n",
       "       ['8', '31'],\n",
       "       ['14', '26'],\n",
       "       ['11', '32'],\n",
       "       ['15', '27'],\n",
       "       ['8', '25'],\n",
       "       ['8', '21'],\n",
       "       ['8', '19'],\n",
       "       ['7', '18'],\n",
       "       ['8', '19'],\n",
       "       ['11', '21'],\n",
       "       ['9', '20'],\n",
       "       ['8', '18'],\n",
       "       ['12', '21']], dtype='<U16')"
      ]
     },
     "execution_count": 23,
     "metadata": {},
     "output_type": "execute_result"
    }
   ],
   "source": [
    "temp"
   ]
  },
  {
   "cell_type": "code",
   "execution_count": 24,
   "id": "56090fac",
   "metadata": {},
   "outputs": [
    {
     "data": {
      "text/plain": [
       "array([['Month', 'Week', 'Tuesday', 'Tuesday'],\n",
       "       ['November', '', 'Min Temp', 'Max Temp'],\n",
       "       ['November', 'Week 1', '8', '29'],\n",
       "       ['November', 'Week 2', '14', '26'],\n",
       "       ['November', 'Week 3', '7', '20'],\n",
       "       ['November', 'Week 4', '8', '31'],\n",
       "       ['December', 'Week 1', '14', '26'],\n",
       "       ['December', 'Week 2', '11', '32'],\n",
       "       ['December', 'Week 3', '15', '27'],\n",
       "       ['December', 'Week 4', '8', '25'],\n",
       "       ['January', 'Week 1', '8', '21'],\n",
       "       ['January', 'Week 2', '8', '19'],\n",
       "       ['January', 'Week 3', '7', '18'],\n",
       "       ['January', 'Week 4', '8', '19'],\n",
       "       ['February', 'Week 1', '11', '21'],\n",
       "       ['February', 'Week 2', '9', '20'],\n",
       "       ['February', 'Week 3', '8', '18'],\n",
       "       ['February', 'Week 4', '12', '21']], dtype='<U16')"
      ]
     },
     "execution_count": 24,
     "metadata": {},
     "output_type": "execute_result"
    }
   ],
   "source": [
    "np.hstack((data[:,0:2],temp))"
   ]
  },
  {
   "cell_type": "markdown",
   "id": "79dfaab1",
   "metadata": {},
   "source": [
    "**Q5 print only the max temp. for all the week days of dec and feb**"
   ]
  },
  {
   "cell_type": "code",
   "execution_count": 25,
   "id": "92b62250",
   "metadata": {},
   "outputs": [
    {
     "data": {
      "text/plain": [
       "array([['Month', 'Week', 'Monday', 'Tuesday', 'Wednesday', 'Thursday',\n",
       "        'Friday', 'Saturday', 'Sunday'],\n",
       "       ['November', '', 'Max Temp', 'Max Temp', 'Max Temp', 'Max Temp',\n",
       "        'Max Temp', 'Max Temp', 'Max Temp'],\n",
       "       ['November', 'Week 1', '32', '29', '31', '27', '29', '23', '27'],\n",
       "       ['November', 'Week 2', '21', '26', '32', '29', '29', '30', '30'],\n",
       "       ['November', 'Week 3', '22', '20', '21', '30', '21', '28', '21'],\n",
       "       ['November', 'Week 4', '20', '31', '32', '24', '32', '21', '30'],\n",
       "       ['December', 'Week 1', '28', '26', '22', '27', '31', '23', '26'],\n",
       "       ['December', 'Week 2', '32', '32', '21', '28', '23', '28', '21'],\n",
       "       ['December', 'Week 3', '28', '27', '32', '22', '28', '23', '30'],\n",
       "       ['December', 'Week 4', '27', '25', '21', '32', '20', '22', '23'],\n",
       "       ['January', 'Week 1', '22', '21', '19', '21', '19', '7', '7'],\n",
       "       ['January', 'Week 2', '18', '19', '21', '21', '22', '2', '6'],\n",
       "       ['January', 'Week 3', '18', '18', '21', '19', '22', '5', '5'],\n",
       "       ['January', 'Week 4', '21', '19', '18', '18', '18', '6', '8'],\n",
       "       ['February', 'Week 1', '21', '21', '20', '22', '19', '71', '12'],\n",
       "       ['February', 'Week 2', '22', '20', '20', '20', '19', '7', '7'],\n",
       "       ['February', 'Week 3', '18', '18', '21', '22', '21', '9', '10'],\n",
       "       ['February', 'Week 4', '22', '21', '19', '19', '20', '9', '12']],\n",
       "      dtype='<U16')"
      ]
     },
     "execution_count": 25,
     "metadata": {},
     "output_type": "execute_result"
    }
   ],
   "source": [
    "max_temp=np.hstack((data[:,0:2],data[:,3::2]))\n",
    "max_temp"
   ]
  },
  {
   "cell_type": "code",
   "execution_count": 26,
   "id": "2d0da963",
   "metadata": {},
   "outputs": [],
   "source": [
    "#december temperature\n",
    "dec=max_temp[:,0]=='December'\n",
    "dec_temp=max_temp[dec]"
   ]
  },
  {
   "cell_type": "code",
   "execution_count": 27,
   "id": "72246ef3",
   "metadata": {},
   "outputs": [],
   "source": [
    "#february temperature\n",
    "feb=max_temp[:,0]=='February'\n",
    "feb_temp=max_temp[feb]"
   ]
  },
  {
   "cell_type": "code",
   "execution_count": 28,
   "id": "5bdd0157",
   "metadata": {},
   "outputs": [
    {
     "data": {
      "text/plain": [
       "array([['Month', 'Week', 'Monday', 'Tuesday', 'Wednesday', 'Thursday',\n",
       "        'Friday', 'Saturday', 'Sunday'],\n",
       "       ['November', '', 'Max Temp', 'Max Temp', 'Max Temp', 'Max Temp',\n",
       "        'Max Temp', 'Max Temp', 'Max Temp'],\n",
       "       ['December', 'Week 1', '28', '26', '22', '27', '31', '23', '26'],\n",
       "       ['December', 'Week 2', '32', '32', '21', '28', '23', '28', '21'],\n",
       "       ['December', 'Week 3', '28', '27', '32', '22', '28', '23', '30'],\n",
       "       ['December', 'Week 4', '27', '25', '21', '32', '20', '22', '23'],\n",
       "       ['February', 'Week 1', '21', '21', '20', '22', '19', '71', '12'],\n",
       "       ['February', 'Week 2', '22', '20', '20', '20', '19', '7', '7'],\n",
       "       ['February', 'Week 3', '18', '18', '21', '22', '21', '9', '10'],\n",
       "       ['February', 'Week 4', '22', '21', '19', '19', '20', '9', '12']],\n",
       "      dtype='<U16')"
      ]
     },
     "execution_count": 28,
     "metadata": {},
     "output_type": "execute_result"
    }
   ],
   "source": [
    "np.vstack(((max_temp[0:2,:],dec_temp,feb_temp)))"
   ]
  },
  {
   "cell_type": "markdown",
   "id": "60838b0a",
   "metadata": {},
   "source": [
    "**Q6 Print all the days along with the week number in the november when the minimum temperature was less than 8 degree.**"
   ]
  },
  {
   "cell_type": "code",
   "execution_count": 29,
   "id": "d80a8db1",
   "metadata": {},
   "outputs": [
    {
     "data": {
      "text/plain": [
       "array([['Month', 'Week', 'Monday', 'Tuesday', 'Wednesday', 'Thursday',\n",
       "        'Friday', 'Saturday', 'Sunday'],\n",
       "       ['November', '', 'Min Temp', 'Min Temp', 'Min Temp', 'Min Temp',\n",
       "        'Min Temp', 'Min Temp', 'Min Temp'],\n",
       "       ['November', 'Week 1', '6', '8', '14', '13', '12', '14', '6'],\n",
       "       ['November', 'Week 2', '13', '14', '15', '-13', '14', '13', '11'],\n",
       "       ['November', 'Week 3', '10', '7', '13', '10', '11', '10', '7'],\n",
       "       ['November', 'Week 4', '7', '8', '8', '8', '8', '6', '8'],\n",
       "       ['December', 'Week 1', '14', '14', '15', '6', '9', '11', '14'],\n",
       "       ['December', 'Week 2', '6', '11', '11', '9', '13', '7', '15'],\n",
       "       ['December', 'Week 3', '11', '15', '13', '8', '11', '11', '11'],\n",
       "       ['December', 'Week 4', '7', '8', '6', '6', '15', '15', '15'],\n",
       "       ['January', 'Week 1', '2', '8', '2', '6', '5', '2', '19'],\n",
       "       ['January', 'Week 2', '4', '8', '4', '4', '3', '2', '22'],\n",
       "       ['January', 'Week 3', '7', '7', '4', '6', '8', '7', '22'],\n",
       "       ['January', 'Week 4', '4', '8', '8', '2', '7', '3', '18'],\n",
       "       ['February', 'Week 1', '11', '11', '-10', '7', '12', '11', '20'],\n",
       "       ['February', 'Week 2', '12', '9', '8', '7', '8', '11', '22'],\n",
       "       ['February', 'Week 3', '10', '8', '11', '11', '12', '11', '19'],\n",
       "       ['February', 'Week 4', '11', '12', '12', '7', '10', '12', '22']],\n",
       "      dtype='<U16')"
      ]
     },
     "execution_count": 29,
     "metadata": {},
     "output_type": "execute_result"
    }
   ],
   "source": [
    "min_temp=np.hstack((data[:,0:2],data[:,2::2]))\n",
    "min_temp"
   ]
  },
  {
   "cell_type": "code",
   "execution_count": 30,
   "id": "4f7bee5f",
   "metadata": {},
   "outputs": [
    {
     "data": {
      "text/plain": [
       "array([False,  True,  True,  True,  True,  True, False, False, False,\n",
       "       False, False, False, False, False, False, False, False, False])"
      ]
     },
     "execution_count": 30,
     "metadata": {},
     "output_type": "execute_result"
    }
   ],
   "source": [
    "cnd_nov=min_temp[:,0]=='November'\n",
    "cnd_nov"
   ]
  },
  {
   "cell_type": "code",
   "execution_count": 31,
   "id": "f4c98016",
   "metadata": {},
   "outputs": [
    {
     "data": {
      "text/plain": [
       "array([['November', '', 'Min Temp', 'Min Temp', 'Min Temp', 'Min Temp',\n",
       "        'Min Temp', 'Min Temp', 'Min Temp'],\n",
       "       ['November', 'Week 1', '6', '8', '14', '13', '12', '14', '6'],\n",
       "       ['November', 'Week 2', '13', '14', '15', '-13', '14', '13', '11'],\n",
       "       ['November', 'Week 3', '10', '7', '13', '10', '11', '10', '7'],\n",
       "       ['November', 'Week 4', '7', '8', '8', '8', '8', '6', '8']],\n",
       "      dtype='<U16')"
      ]
     },
     "execution_count": 31,
     "metadata": {},
     "output_type": "execute_result"
    }
   ],
   "source": [
    "nov2=min_temp[cnd_nov]\n",
    "nov2"
   ]
  },
  {
   "cell_type": "code",
   "execution_count": 32,
   "id": "68e482b4",
   "metadata": {},
   "outputs": [
    {
     "data": {
      "text/plain": [
       "array([[  6,   8,  14,  13,  12,  14,   6],\n",
       "       [ 13,  14,  15, -13,  14,  13,  11],\n",
       "       [ 10,   7,  13,  10,  11,  10,   7],\n",
       "       [  7,   8,   8,   8,   8,   6,   8]])"
      ]
     },
     "execution_count": 32,
     "metadata": {},
     "output_type": "execute_result"
    }
   ],
   "source": [
    "#changing datatype to integer\n",
    "t= nov2[1:,2:].astype(int)\n",
    "t"
   ]
  },
  {
   "cell_type": "code",
   "execution_count": 33,
   "id": "41e753c5",
   "metadata": {},
   "outputs": [
    {
     "data": {
      "text/plain": [
       "array([ 6,  8, 14, 13, 12, 14,  6])"
      ]
     },
     "execution_count": 33,
     "metadata": {},
     "output_type": "execute_result"
    }
   ],
   "source": [
    "week_1=t[0:1,:].reshape(7,)\n",
    "week_1"
   ]
  },
  {
   "cell_type": "code",
   "execution_count": 34,
   "id": "fc0bcfa8",
   "metadata": {},
   "outputs": [
    {
     "data": {
      "text/plain": [
       "array([ 13,  14,  15, -13,  14,  13,  11])"
      ]
     },
     "execution_count": 34,
     "metadata": {},
     "output_type": "execute_result"
    }
   ],
   "source": [
    "week_2=t[1:2,:].reshape(7,)\n",
    "week_2"
   ]
  },
  {
   "cell_type": "code",
   "execution_count": 35,
   "id": "1bfe4ae2",
   "metadata": {},
   "outputs": [
    {
     "data": {
      "text/plain": [
       "array([10,  7, 13, 10, 11, 10,  7])"
      ]
     },
     "execution_count": 35,
     "metadata": {},
     "output_type": "execute_result"
    }
   ],
   "source": [
    "week_3=t[2:3,:].reshape(7,)\n",
    "week_3"
   ]
  },
  {
   "cell_type": "code",
   "execution_count": 36,
   "id": "d3274d37",
   "metadata": {},
   "outputs": [
    {
     "data": {
      "text/plain": [
       "array([7, 8, 8, 8, 8, 6, 8])"
      ]
     },
     "execution_count": 36,
     "metadata": {},
     "output_type": "execute_result"
    }
   ],
   "source": [
    "week_4=t[3:4,:].reshape(7,)\n",
    "week_4"
   ]
  },
  {
   "cell_type": "code",
   "execution_count": 37,
   "id": "fd31a874",
   "metadata": {},
   "outputs": [
    {
     "name": "stdout",
     "output_type": "stream",
     "text": [
      "[6, '', '', '', '', '', 6]\n"
     ]
    }
   ],
   "source": [
    "# check where temp less than 8\n",
    "w1=[]\n",
    "for n in week_1:\n",
    "    if n<8:\n",
    "        w1.append(n)\n",
    "    else:\n",
    "        w1.append('')\n",
    "print(w1)"
   ]
  },
  {
   "cell_type": "code",
   "execution_count": 38,
   "id": "68087cc5",
   "metadata": {},
   "outputs": [
    {
     "name": "stdout",
     "output_type": "stream",
     "text": [
      "['', '', '', -13, '', '', '']\n"
     ]
    }
   ],
   "source": [
    "w2=[]\n",
    "for n in week_2:\n",
    "    if n<8:\n",
    "        w2.append(n)\n",
    "    else:\n",
    "        w2.append('')\n",
    "print(w2)"
   ]
  },
  {
   "cell_type": "code",
   "execution_count": 39,
   "id": "474067a4",
   "metadata": {},
   "outputs": [
    {
     "name": "stdout",
     "output_type": "stream",
     "text": [
      "['', 7, '', '', '', '', 7]\n"
     ]
    }
   ],
   "source": [
    "w3=[]\n",
    "for n in week_3:\n",
    "    if n<8:\n",
    "        w3.append(n)\n",
    "    else:\n",
    "        w3.append('')\n",
    "print(w3)"
   ]
  },
  {
   "cell_type": "code",
   "execution_count": 40,
   "id": "4dead968",
   "metadata": {},
   "outputs": [
    {
     "name": "stdout",
     "output_type": "stream",
     "text": [
      "[7, '', '', '', '', 6, '']\n"
     ]
    }
   ],
   "source": [
    "w4=[]\n",
    "for n in week_4:\n",
    "    if n<8:\n",
    "        w4.append(n)\n",
    "    else:\n",
    "        w4.append('')\n",
    "print(w4)"
   ]
  },
  {
   "cell_type": "code",
   "execution_count": 41,
   "id": "04f48dcc",
   "metadata": {},
   "outputs": [],
   "source": [
    "#conerting list t array\n",
    "w1=np.array(w1).reshape(1,7)\n",
    "w2=np.array(w2).reshape(1,7)\n",
    "w3=np.array(w3).reshape(1,7)\n",
    "w4=np.array(w4).reshape(1,7)"
   ]
  },
  {
   "cell_type": "code",
   "execution_count": 42,
   "id": "2d4c3762",
   "metadata": {},
   "outputs": [
    {
     "data": {
      "text/plain": [
       "array([['6', '', '', '', '', '', '6'],\n",
       "       ['', '', '', '-13', '', '', ''],\n",
       "       ['', '7', '', '', '', '', '7'],\n",
       "       ['7', '', '', '', '', '6', '']], dtype='<U11')"
      ]
     },
     "execution_count": 42,
     "metadata": {},
     "output_type": "execute_result"
    }
   ],
   "source": [
    "temp_nov=np.vstack(((w1,w2,w3,w4)))\n",
    "temp_nov"
   ]
  },
  {
   "cell_type": "code",
   "execution_count": 43,
   "id": "d0fc5af2",
   "metadata": {},
   "outputs": [
    {
     "data": {
      "text/plain": [
       "array([['November', 'Week 1', '6', '', '', '', '', '', '6'],\n",
       "       ['November', 'Week 2', '', '', '', '-13', '', '', ''],\n",
       "       ['November', 'Week 3', '', '7', '', '', '', '', '7'],\n",
       "       ['November', 'Week 4', '7', '', '', '', '', '6', '']], dtype='<U16')"
      ]
     },
     "execution_count": 43,
     "metadata": {},
     "output_type": "execute_result"
    }
   ],
   "source": [
    "less_temp=np.hstack((nov2[1:5,:2],temp_nov))\n",
    "less_temp"
   ]
  },
  {
   "cell_type": "markdown",
   "id": "56d128eb",
   "metadata": {},
   "source": [
    "**Q7 Print all the weeks in dec and jan where the max temp has crossed the threshold of 20 degrees.**"
   ]
  },
  {
   "cell_type": "code",
   "execution_count": 44,
   "id": "9eee67b3",
   "metadata": {},
   "outputs": [
    {
     "data": {
      "text/plain": [
       "array([['Month', 'Week', 'Monday', 'Tuesday', 'Wednesday', 'Thursday',\n",
       "        'Friday', 'Saturday', 'Sunday'],\n",
       "       ['November', '', 'Max Temp', 'Max Temp', 'Max Temp', 'Max Temp',\n",
       "        'Max Temp', 'Max Temp', 'Max Temp'],\n",
       "       ['November', 'Week 1', '32', '29', '31', '27', '29', '23', '27'],\n",
       "       ['November', 'Week 2', '21', '26', '32', '29', '29', '30', '30'],\n",
       "       ['November', 'Week 3', '22', '20', '21', '30', '21', '28', '21'],\n",
       "       ['November', 'Week 4', '20', '31', '32', '24', '32', '21', '30'],\n",
       "       ['December', 'Week 1', '28', '26', '22', '27', '31', '23', '26'],\n",
       "       ['December', 'Week 2', '32', '32', '21', '28', '23', '28', '21'],\n",
       "       ['December', 'Week 3', '28', '27', '32', '22', '28', '23', '30'],\n",
       "       ['December', 'Week 4', '27', '25', '21', '32', '20', '22', '23'],\n",
       "       ['January', 'Week 1', '22', '21', '19', '21', '19', '7', '7'],\n",
       "       ['January', 'Week 2', '18', '19', '21', '21', '22', '2', '6'],\n",
       "       ['January', 'Week 3', '18', '18', '21', '19', '22', '5', '5'],\n",
       "       ['January', 'Week 4', '21', '19', '18', '18', '18', '6', '8'],\n",
       "       ['February', 'Week 1', '21', '21', '20', '22', '19', '71', '12'],\n",
       "       ['February', 'Week 2', '22', '20', '20', '20', '19', '7', '7'],\n",
       "       ['February', 'Week 3', '18', '18', '21', '22', '21', '9', '10'],\n",
       "       ['February', 'Week 4', '22', '21', '19', '19', '20', '9', '12']],\n",
       "      dtype='<U16')"
      ]
     },
     "execution_count": 44,
     "metadata": {},
     "output_type": "execute_result"
    }
   ],
   "source": [
    "max_temp"
   ]
  },
  {
   "cell_type": "code",
   "execution_count": 45,
   "id": "a3bc9606",
   "metadata": {},
   "outputs": [],
   "source": [
    "cond_dec=max_temp[:,0]=='December'"
   ]
  },
  {
   "cell_type": "code",
   "execution_count": 46,
   "id": "c6db1097",
   "metadata": {},
   "outputs": [],
   "source": [
    "cond_jan=max_temp[:,0]=='January'"
   ]
  },
  {
   "cell_type": "code",
   "execution_count": 47,
   "id": "a2b56db5",
   "metadata": {},
   "outputs": [
    {
     "data": {
      "text/plain": [
       "array([['December', 'Week 1', '28', '26', '22', '27', '31', '23', '26'],\n",
       "       ['December', 'Week 2', '32', '32', '21', '28', '23', '28', '21'],\n",
       "       ['December', 'Week 3', '28', '27', '32', '22', '28', '23', '30'],\n",
       "       ['December', 'Week 4', '27', '25', '21', '32', '20', '22', '23'],\n",
       "       ['January', 'Week 1', '22', '21', '19', '21', '19', '7', '7'],\n",
       "       ['January', 'Week 2', '18', '19', '21', '21', '22', '2', '6'],\n",
       "       ['January', 'Week 3', '18', '18', '21', '19', '22', '5', '5'],\n",
       "       ['January', 'Week 4', '21', '19', '18', '18', '18', '6', '8']],\n",
       "      dtype='<U16')"
      ]
     },
     "execution_count": 47,
     "metadata": {},
     "output_type": "execute_result"
    }
   ],
   "source": [
    "dec_jan=np.vstack((max_temp[cond_dec],max_temp[cond_jan]))\n",
    "dec_jan"
   ]
  },
  {
   "cell_type": "code",
   "execution_count": 48,
   "id": "acc3ee5d",
   "metadata": {},
   "outputs": [],
   "source": [
    "dw1=dec_jan[0,2:].reshape(7,).astype(int)\n",
    "dw2=dec_jan[1,2:].reshape(7,).astype(int)\n",
    "dw3=dec_jan[2,2:].reshape(7,).astype(int)\n",
    "dw4=dec_jan[3,2:].reshape(7,).astype(int)"
   ]
  },
  {
   "cell_type": "code",
   "execution_count": 49,
   "id": "370191b2",
   "metadata": {},
   "outputs": [],
   "source": [
    "jw1=dec_jan[4,2:].reshape(7,).astype(int)\n",
    "jw2=dec_jan[5,2:].reshape(7,).astype(int)\n",
    "jw3=dec_jan[6,2:].reshape(7,).astype(int)\n",
    "jw4=dec_jan[7,2:].reshape(7,).astype(int)"
   ]
  },
  {
   "cell_type": "code",
   "execution_count": 50,
   "id": "631c222b",
   "metadata": {},
   "outputs": [
    {
     "name": "stdout",
     "output_type": "stream",
     "text": [
      "[28, 26, 22, 27, 31, 23, 26]\n"
     ]
    }
   ],
   "source": [
    "d_w1=[]\n",
    "for i in dw1:\n",
    "    if i>20:\n",
    "        d_w1.append(i)\n",
    "    else:\n",
    "        d_w1.append('')\n",
    "print(d_w1)"
   ]
  },
  {
   "cell_type": "code",
   "execution_count": 51,
   "id": "504c917e",
   "metadata": {},
   "outputs": [
    {
     "name": "stdout",
     "output_type": "stream",
     "text": [
      "[32, 32, 21, 28, 23, 28, 21]\n"
     ]
    }
   ],
   "source": [
    "d_w2=[]\n",
    "for i in dw2:\n",
    "    if i>20:\n",
    "        d_w2.append(i)\n",
    "    else:\n",
    "        d_w2.append('')\n",
    "print(d_w2)"
   ]
  },
  {
   "cell_type": "code",
   "execution_count": 52,
   "id": "654e5a2b",
   "metadata": {},
   "outputs": [
    {
     "name": "stdout",
     "output_type": "stream",
     "text": [
      "[28, 27, 32, 22, 28, 23, 30]\n"
     ]
    }
   ],
   "source": [
    "d_w3=[]\n",
    "for i in dw3:\n",
    "    if i>20:\n",
    "        d_w3.append(i)\n",
    "    else:\n",
    "        d_w3.append('')\n",
    "print(d_w3)"
   ]
  },
  {
   "cell_type": "code",
   "execution_count": 53,
   "id": "5a63b4c6",
   "metadata": {},
   "outputs": [
    {
     "name": "stdout",
     "output_type": "stream",
     "text": [
      "[27, 25, 21, 32, '', 22, 23]\n"
     ]
    }
   ],
   "source": [
    "d_w4=[]\n",
    "for i in dw4:\n",
    "    if i>20:\n",
    "        d_w4.append(i)\n",
    "    else:\n",
    "        d_w4.append('')\n",
    "print(d_w4)"
   ]
  },
  {
   "cell_type": "code",
   "execution_count": 57,
   "id": "ecb2234e",
   "metadata": {},
   "outputs": [
    {
     "name": "stdout",
     "output_type": "stream",
     "text": [
      "[22, 21, '', 21, '', '', '']\n",
      "['', '', 21, 21, 22, '', '']\n",
      "['', '', 21, '', 22, '', '']\n",
      "[21, '', '', '', '', '', '']\n"
     ]
    }
   ],
   "source": [
    "j_w1=[]\n",
    "for i in jw1:\n",
    "    if i>20:\n",
    "        j_w1.append(i)\n",
    "    else:\n",
    "        j_w1.append('')\n",
    "print(j_w1)\n",
    "\n",
    "j_w2=[]\n",
    "for i in jw2:\n",
    "    if i>20:\n",
    "        j_w2.append(i)\n",
    "    else:\n",
    "        j_w2.append('')\n",
    "print(j_w2)\n",
    "\n",
    "j_w3=[]\n",
    "for i in jw3:\n",
    "    if i>20:\n",
    "        j_w3.append(i)\n",
    "    else:\n",
    "        j_w3.append('')\n",
    "print(j_w3)\n",
    "\n",
    "j_w4=[]\n",
    "for i in jw4:\n",
    "    if i>20:\n",
    "        j_w4.append(i)\n",
    "    else:\n",
    "        j_w4.append('')\n",
    "print(j_w4)"
   ]
  },
  {
   "cell_type": "code",
   "execution_count": 58,
   "id": "63e871d7",
   "metadata": {},
   "outputs": [],
   "source": [
    "d_w1=np.array(d_w1).reshape(1,7)\n",
    "d_w2=np.array(d_w2).reshape(1,7)\n",
    "d_w3=np.array(d_w3).reshape(1,7)\n",
    "d_w4=np.array(d_w4).reshape(1,7)"
   ]
  },
  {
   "cell_type": "code",
   "execution_count": 59,
   "id": "61d58932",
   "metadata": {},
   "outputs": [],
   "source": [
    "j_w1=np.array(j_w1).reshape(1,7)\n",
    "j_w2=np.array(j_w2).reshape(1,7)\n",
    "j_w3=np.array(j_w3).reshape(1,7)\n",
    "j_w4=np.array(j_w4).reshape(1,7)"
   ]
  },
  {
   "cell_type": "code",
   "execution_count": 60,
   "id": "821c052f",
   "metadata": {},
   "outputs": [],
   "source": [
    "temp2=np.vstack((((((((d_w1,d_w2,d_w3,d_w4,j_w1,j_w2,j_w3,j_w4))))))))"
   ]
  },
  {
   "cell_type": "code",
   "execution_count": 61,
   "id": "f12f8442",
   "metadata": {},
   "outputs": [
    {
     "data": {
      "text/plain": [
       "array([['28', '26', '22', '27', '31', '23', '26'],\n",
       "       ['32', '32', '21', '28', '23', '28', '21'],\n",
       "       ['28', '27', '32', '22', '28', '23', '30'],\n",
       "       ['27', '25', '21', '32', '', '22', '23'],\n",
       "       ['22', '21', '', '21', '', '', ''],\n",
       "       ['', '', '21', '21', '22', '', ''],\n",
       "       ['', '', '21', '', '22', '', ''],\n",
       "       ['21', '', '', '', '', '', '']], dtype='<U11')"
      ]
     },
     "execution_count": 61,
     "metadata": {},
     "output_type": "execute_result"
    }
   ],
   "source": [
    "temp2"
   ]
  },
  {
   "cell_type": "code",
   "execution_count": 62,
   "id": "656becbd",
   "metadata": {},
   "outputs": [
    {
     "data": {
      "text/plain": [
       "array([['December', 'Week 1', '28', '26', '22', '27', '31', '23', '26'],\n",
       "       ['December', 'Week 2', '32', '32', '21', '28', '23', '28', '21'],\n",
       "       ['December', 'Week 3', '28', '27', '32', '22', '28', '23', '30'],\n",
       "       ['December', 'Week 4', '27', '25', '21', '32', '', '22', '23'],\n",
       "       ['January', 'Week 1', '22', '21', '', '21', '', '', ''],\n",
       "       ['January', 'Week 2', '', '', '21', '21', '22', '', ''],\n",
       "       ['January', 'Week 3', '', '', '21', '', '22', '', ''],\n",
       "       ['January', 'Week 4', '21', '', '', '', '', '', '']], dtype='<U16')"
      ]
     },
     "execution_count": 62,
     "metadata": {},
     "output_type": "execute_result"
    }
   ],
   "source": [
    "temp_greater_20=np.hstack((dec_jan[:,:2],temp2))\n",
    "temp_greater_20"
   ]
  },
  {
   "cell_type": "markdown",
   "id": "7e72d101",
   "metadata": {},
   "source": [
    "**Q8 check if any adsurd alue present in the dataset.**"
   ]
  },
  {
   "cell_type": "code",
   "execution_count": 63,
   "id": "84b85713",
   "metadata": {},
   "outputs": [
    {
     "data": {
      "text/plain": [
       "array([['Month', 'Week', 'Monday', 'Monday', 'Tuesday', 'Tuesday',\n",
       "        'Wednesday', 'Wednesday', 'Thursday', 'Thursday', 'Friday',\n",
       "        'Friday', 'Saturday', 'Saturday', 'Sunday', 'Sunday'],\n",
       "       ['November', '', 'Min Temp', 'Max Temp', 'Min Temp', 'Max Temp',\n",
       "        'Min Temp', 'Max Temp', 'Min Temp', 'Max Temp', 'Min Temp',\n",
       "        'Max Temp', 'Min Temp', 'Max Temp', 'Min Temp', 'Max Temp'],\n",
       "       ['November', 'Week 1', '6', '32', '8', '29', '14', '31', '13',\n",
       "        '27', '12', '29', '14', '23', '6', '27']], dtype='<U16')"
      ]
     },
     "execution_count": 63,
     "metadata": {},
     "output_type": "execute_result"
    }
   ],
   "source": [
    "data[0:3]"
   ]
  },
  {
   "cell_type": "code",
   "execution_count": 64,
   "id": "d73a5eef",
   "metadata": {},
   "outputs": [
    {
     "data": {
      "text/plain": [
       "array([['6', '32', '8', '29', '14', '31', '13', '27', '12', '29', '14',\n",
       "        '23', '6', '27'],\n",
       "       ['13', '21', '14', '26', '15', '32', '-13', '29', '14', '29',\n",
       "        '13', '30', '11', '30'],\n",
       "       ['10', '22', '7', '20', '13', '21', '10', '30', '11', '21', '10',\n",
       "        '28', '7', '21'],\n",
       "       ['7', '20', '8', '31', '8', '32', '8', '24', '8', '32', '6', '21',\n",
       "        '8', '30'],\n",
       "       ['14', '28', '14', '26', '15', '22', '6', '27', '9', '31', '11',\n",
       "        '23', '14', '26'],\n",
       "       ['6', '32', '11', '32', '11', '21', '9', '28', '13', '23', '7',\n",
       "        '28', '15', '21'],\n",
       "       ['11', '28', '15', '27', '13', '32', '8', '22', '11', '28', '11',\n",
       "        '23', '11', '30'],\n",
       "       ['7', '27', '8', '25', '6', '21', '6', '32', '15', '20', '15',\n",
       "        '22', '15', '23'],\n",
       "       ['2', '22', '8', '21', '2', '19', '6', '21', '5', '19', '2', '7',\n",
       "        '19', '7'],\n",
       "       ['4', '18', '8', '19', '4', '21', '4', '21', '3', '22', '2', '2',\n",
       "        '22', '6'],\n",
       "       ['7', '18', '7', '18', '4', '21', '6', '19', '8', '22', '7', '5',\n",
       "        '22', '5'],\n",
       "       ['4', '21', '8', '19', '8', '18', '2', '18', '7', '18', '3', '6',\n",
       "        '18', '8'],\n",
       "       ['11', '21', '11', '21', '-10', '20', '7', '22', '12', '19', '11',\n",
       "        '71', '20', '12'],\n",
       "       ['12', '22', '9', '20', '8', '20', '7', '20', '8', '19', '11',\n",
       "        '7', '22', '7'],\n",
       "       ['10', '18', '8', '18', '11', '21', '11', '22', '12', '21', '11',\n",
       "        '9', '19', '10'],\n",
       "       ['11', '22', '12', '21', '12', '19', '7', '19', '10', '20', '12',\n",
       "        '9', '22', '12']], dtype='<U16')"
      ]
     },
     "execution_count": 64,
     "metadata": {},
     "output_type": "execute_result"
    }
   ],
   "source": [
    "D1=data[2:,2:]\n",
    "D1"
   ]
  },
  {
   "cell_type": "code",
   "execution_count": 65,
   "id": "56a2540d",
   "metadata": {},
   "outputs": [],
   "source": [
    "cond = D1 ==''"
   ]
  },
  {
   "cell_type": "code",
   "execution_count": 66,
   "id": "9175b475",
   "metadata": {},
   "outputs": [
    {
     "data": {
      "text/plain": [
       "array([], dtype='<U16')"
      ]
     },
     "execution_count": 66,
     "metadata": {},
     "output_type": "execute_result"
    }
   ],
   "source": [
    "D1[cond]"
   ]
  },
  {
   "cell_type": "markdown",
   "id": "38d58c67",
   "metadata": {},
   "source": [
    "**Q9 What Strategy would you use to handle such data.**"
   ]
  },
  {
   "cell_type": "markdown",
   "id": "ba59779c",
   "metadata": {},
   "source": [
    "*Mainly for the categorical data , where the valuse are missing."
   ]
  },
  {
   "cell_type": "markdown",
   "id": "c73813bd",
   "metadata": {},
   "source": [
    "**Q10 Find and print Indexes of all the outlier(unusual) values present in the above dataset**"
   ]
  },
  {
   "cell_type": "code",
   "execution_count": 67,
   "id": "e8aaed0c",
   "metadata": {},
   "outputs": [
    {
     "data": {
      "text/plain": [
       "array([['Month', 'Week', 'Monday', 'Monday', 'Tuesday', 'Tuesday',\n",
       "        'Wednesday', 'Wednesday', 'Thursday', 'Thursday', 'Friday',\n",
       "        'Friday', 'Saturday', 'Saturday', 'Sunday', 'Sunday'],\n",
       "       ['November', '', 'Min Temp', 'Max Temp', 'Min Temp', 'Max Temp',\n",
       "        'Min Temp', 'Max Temp', 'Min Temp', 'Max Temp', 'Min Temp',\n",
       "        'Max Temp', 'Min Temp', 'Max Temp', 'Min Temp', 'Max Temp'],\n",
       "       ['November', 'Week 1', '6', '32', '8', '29', '14', '31', '13',\n",
       "        '27', '12', '29', '14', '23', '6', '27'],\n",
       "       ['November', 'Week 2', '13', '21', '14', '26', '15', '32', '-13',\n",
       "        '29', '14', '29', '13', '30', '11', '30'],\n",
       "       ['November', 'Week 3', '10', '22', '7', '20', '13', '21', '10',\n",
       "        '30', '11', '21', '10', '28', '7', '21'],\n",
       "       ['November', 'Week 4', '7', '20', '8', '31', '8', '32', '8', '24',\n",
       "        '8', '32', '6', '21', '8', '30'],\n",
       "       ['December', 'Week 1', '14', '28', '14', '26', '15', '22', '6',\n",
       "        '27', '9', '31', '11', '23', '14', '26'],\n",
       "       ['December', 'Week 2', '6', '32', '11', '32', '11', '21', '9',\n",
       "        '28', '13', '23', '7', '28', '15', '21'],\n",
       "       ['December', 'Week 3', '11', '28', '15', '27', '13', '32', '8',\n",
       "        '22', '11', '28', '11', '23', '11', '30'],\n",
       "       ['December', 'Week 4', '7', '27', '8', '25', '6', '21', '6', '32',\n",
       "        '15', '20', '15', '22', '15', '23'],\n",
       "       ['January', 'Week 1', '2', '22', '8', '21', '2', '19', '6', '21',\n",
       "        '5', '19', '2', '7', '19', '7'],\n",
       "       ['January', 'Week 2', '4', '18', '8', '19', '4', '21', '4', '21',\n",
       "        '3', '22', '2', '2', '22', '6'],\n",
       "       ['January', 'Week 3', '7', '18', '7', '18', '4', '21', '6', '19',\n",
       "        '8', '22', '7', '5', '22', '5'],\n",
       "       ['January', 'Week 4', '4', '21', '8', '19', '8', '18', '2', '18',\n",
       "        '7', '18', '3', '6', '18', '8'],\n",
       "       ['February', 'Week 1', '11', '21', '11', '21', '-10', '20', '7',\n",
       "        '22', '12', '19', '11', '71', '20', '12'],\n",
       "       ['February', 'Week 2', '12', '22', '9', '20', '8', '20', '7',\n",
       "        '20', '8', '19', '11', '7', '22', '7'],\n",
       "       ['February', 'Week 3', '10', '18', '8', '18', '11', '21', '11',\n",
       "        '22', '12', '21', '11', '9', '19', '10'],\n",
       "       ['February', 'Week 4', '11', '22', '12', '21', '12', '19', '7',\n",
       "        '19', '10', '20', '12', '9', '22', '12']], dtype='<U16')"
      ]
     },
     "execution_count": 67,
     "metadata": {},
     "output_type": "execute_result"
    }
   ],
   "source": [
    "data"
   ]
  },
  {
   "cell_type": "code",
   "execution_count": 69,
   "id": "b271c709",
   "metadata": {},
   "outputs": [
    {
     "data": {
      "text/plain": [
       "array([[  6,  32,   8,  29,  14,  31,  13,  27,  12,  29,  14,  23,   6,\n",
       "         27],\n",
       "       [ 13,  21,  14,  26,  15,  32, -13,  29,  14,  29,  13,  30,  11,\n",
       "         30],\n",
       "       [ 10,  22,   7,  20,  13,  21,  10,  30,  11,  21,  10,  28,   7,\n",
       "         21],\n",
       "       [  7,  20,   8,  31,   8,  32,   8,  24,   8,  32,   6,  21,   8,\n",
       "         30],\n",
       "       [ 14,  28,  14,  26,  15,  22,   6,  27,   9,  31,  11,  23,  14,\n",
       "         26],\n",
       "       [  6,  32,  11,  32,  11,  21,   9,  28,  13,  23,   7,  28,  15,\n",
       "         21],\n",
       "       [ 11,  28,  15,  27,  13,  32,   8,  22,  11,  28,  11,  23,  11,\n",
       "         30],\n",
       "       [  7,  27,   8,  25,   6,  21,   6,  32,  15,  20,  15,  22,  15,\n",
       "         23],\n",
       "       [  2,  22,   8,  21,   2,  19,   6,  21,   5,  19,   2,   7,  19,\n",
       "          7],\n",
       "       [  4,  18,   8,  19,   4,  21,   4,  21,   3,  22,   2,   2,  22,\n",
       "          6],\n",
       "       [  7,  18,   7,  18,   4,  21,   6,  19,   8,  22,   7,   5,  22,\n",
       "          5],\n",
       "       [  4,  21,   8,  19,   8,  18,   2,  18,   7,  18,   3,   6,  18,\n",
       "          8],\n",
       "       [ 11,  21,  11,  21, -10,  20,   7,  22,  12,  19,  11,  71,  20,\n",
       "         12],\n",
       "       [ 12,  22,   9,  20,   8,  20,   7,  20,   8,  19,  11,   7,  22,\n",
       "          7],\n",
       "       [ 10,  18,   8,  18,  11,  21,  11,  22,  12,  21,  11,   9,  19,\n",
       "         10],\n",
       "       [ 11,  22,  12,  21,  12,  19,   7,  19,  10,  20,  12,   9,  22,\n",
       "         12]])"
      ]
     },
     "execution_count": 69,
     "metadata": {},
     "output_type": "execute_result"
    }
   ],
   "source": [
    "temp_1=data[2:,2:].astype(int)\n",
    "temp_1"
   ]
  },
  {
   "cell_type": "code",
   "execution_count": 70,
   "id": "aca51279",
   "metadata": {},
   "outputs": [
    {
     "data": {
      "text/plain": [
       "(16, 14)"
      ]
     },
     "execution_count": 70,
     "metadata": {},
     "output_type": "execute_result"
    }
   ],
   "source": [
    "temp_1.shape"
   ]
  },
  {
   "cell_type": "code",
   "execution_count": 71,
   "id": "b262030a",
   "metadata": {},
   "outputs": [
    {
     "data": {
      "text/plain": [
       "array([  6,  32,   8,  29,  14,  31,  13,  27,  12,  29,  14,  23,   6,\n",
       "        27,  13,  21,  14,  26,  15,  32, -13,  29,  14,  29,  13,  30,\n",
       "        11,  30,  10,  22,   7,  20,  13,  21,  10,  30,  11,  21,  10,\n",
       "        28,   7,  21,   7,  20,   8,  31,   8,  32,   8,  24,   8,  32,\n",
       "         6,  21,   8,  30,  14,  28,  14,  26,  15,  22,   6,  27,   9,\n",
       "        31,  11,  23,  14,  26,   6,  32,  11,  32,  11,  21,   9,  28,\n",
       "        13,  23,   7,  28,  15,  21,  11,  28,  15,  27,  13,  32,   8,\n",
       "        22,  11,  28,  11,  23,  11,  30,   7,  27,   8,  25,   6,  21,\n",
       "         6,  32,  15,  20,  15,  22,  15,  23,   2,  22,   8,  21,   2,\n",
       "        19,   6,  21,   5,  19,   2,   7,  19,   7,   4,  18,   8,  19,\n",
       "         4,  21,   4,  21,   3,  22,   2,   2,  22,   6,   7,  18,   7,\n",
       "        18,   4,  21,   6,  19,   8,  22,   7,   5,  22,   5,   4,  21,\n",
       "         8,  19,   8,  18,   2,  18,   7,  18,   3,   6,  18,   8,  11,\n",
       "        21,  11,  21, -10,  20,   7,  22,  12,  19,  11,  71,  20,  12,\n",
       "        12,  22,   9,  20,   8,  20,   7,  20,   8,  19,  11,   7,  22,\n",
       "         7,  10,  18,   8,  18,  11,  21,  11,  22,  12,  21,  11,   9,\n",
       "        19,  10,  11,  22,  12,  21,  12,  19,   7,  19,  10,  20,  12,\n",
       "         9,  22,  12])"
      ]
     },
     "execution_count": 71,
     "metadata": {},
     "output_type": "execute_result"
    }
   ],
   "source": [
    "temp_1=temp_1.reshape(16*14,)\n",
    "temp_1"
   ]
  },
  {
   "cell_type": "code",
   "execution_count": 72,
   "id": "26722cdc",
   "metadata": {},
   "outputs": [
    {
     "data": {
      "text/plain": [
       "array([-13, -10,   2,   2,   2,   2,   2,   2,   3,   3,   4,   4,   4,\n",
       "         4,   4,   5,   5,   5,   6,   6,   6,   6,   6,   6,   6,   6,\n",
       "         6,   6,   6,   7,   7,   7,   7,   7,   7,   7,   7,   7,   7,\n",
       "         7,   7,   7,   7,   7,   7,   8,   8,   8,   8,   8,   8,   8,\n",
       "         8,   8,   8,   8,   8,   8,   8,   8,   8,   8,   9,   9,   9,\n",
       "         9,   9,  10,  10,  10,  10,  10,  10,  11,  11,  11,  11,  11,\n",
       "        11,  11,  11,  11,  11,  11,  11,  11,  11,  11,  11,  11,  12,\n",
       "        12,  12,  12,  12,  12,  12,  12,  12,  13,  13,  13,  13,  13,\n",
       "        13,  14,  14,  14,  14,  14,  14,  14,  15,  15,  15,  15,  15,\n",
       "        15,  15,  18,  18,  18,  18,  18,  18,  18,  18,  18,  19,  19,\n",
       "        19,  19,  19,  19,  19,  19,  19,  19,  19,  20,  20,  20,  20,\n",
       "        20,  20,  20,  20,  20,  21,  21,  21,  21,  21,  21,  21,  21,\n",
       "        21,  21,  21,  21,  21,  21,  21,  21,  21,  21,  21,  22,  22,\n",
       "        22,  22,  22,  22,  22,  22,  22,  22,  22,  22,  22,  22,  22,\n",
       "        23,  23,  23,  23,  23,  24,  25,  26,  26,  26,  27,  27,  27,\n",
       "        27,  27,  28,  28,  28,  28,  28,  28,  29,  29,  29,  29,  30,\n",
       "        30,  30,  30,  30,  31,  31,  31,  32,  32,  32,  32,  32,  32,\n",
       "        32,  32,  71])"
      ]
     },
     "execution_count": 72,
     "metadata": {},
     "output_type": "execute_result"
    }
   ],
   "source": [
    "sort_temp_1=np.sort(temp_1)\n",
    "sort_temp_1"
   ]
  },
  {
   "cell_type": "code",
   "execution_count": 73,
   "id": "b24b8bc2",
   "metadata": {},
   "outputs": [
    {
     "data": {
      "text/plain": [
       "15.786"
      ]
     },
     "execution_count": 73,
     "metadata": {},
     "output_type": "execute_result"
    }
   ],
   "source": [
    "mean=round(np.mean(temp_1),3)\n",
    "mean"
   ]
  },
  {
   "cell_type": "code",
   "execution_count": 74,
   "id": "86315561",
   "metadata": {},
   "outputs": [
    {
     "data": {
      "text/plain": [
       "9.345480736916727"
      ]
     },
     "execution_count": 74,
     "metadata": {},
     "output_type": "execute_result"
    }
   ],
   "source": [
    "std=np.std(temp_1)\n",
    "std"
   ]
  },
  {
   "cell_type": "code",
   "execution_count": 76,
   "id": "8f9cc4c3",
   "metadata": {},
   "outputs": [
    {
     "name": "stdout",
     "output_type": "stream",
     "text": [
      "8.0 22.0\n"
     ]
    }
   ],
   "source": [
    "q1=np.median(sort_temp_1[0:112])\n",
    "q3=np.median(sort_temp_1[112:])\n",
    "print(q1,q3)"
   ]
  },
  {
   "cell_type": "code",
   "execution_count": 77,
   "id": "b086ea82",
   "metadata": {},
   "outputs": [
    {
     "data": {
      "text/plain": [
       "14.0"
      ]
     },
     "execution_count": 77,
     "metadata": {},
     "output_type": "execute_result"
    }
   ],
   "source": [
    "iqr=q3-q1\n",
    "iqr"
   ]
  },
  {
   "cell_type": "code",
   "execution_count": 80,
   "id": "a62cb6c8",
   "metadata": {},
   "outputs": [
    {
     "name": "stdout",
     "output_type": "stream",
     "text": [
      "[6, 32, 8, 29, 14, 31, 13, 27, 12, 29, 14, 23, 6, 27, 13, 21, 14, 26, 15, 32, 'outlier', 29, 14, 29, 13, 30, 11, 30, 10, 22, 7, 20, 13, 21, 10, 30, 11, 21, 10, 28, 7, 21, 7, 20, 8, 31, 8, 32, 8, 24, 8, 32, 6, 21, 8, 30, 14, 28, 14, 26, 15, 22, 6, 27, 9, 31, 11, 23, 14, 26, 6, 32, 11, 32, 11, 21, 9, 28, 13, 23, 7, 28, 15, 21, 11, 28, 15, 27, 13, 32, 8, 22, 11, 28, 11, 23, 11, 30, 7, 27, 8, 25, 6, 21, 6, 32, 15, 20, 15, 22, 15, 23, 2, 22, 8, 21, 2, 19, 6, 21, 5, 19, 2, 7, 19, 7, 4, 18, 8, 19, 4, 21, 4, 21, 3, 22, 2, 2, 22, 6, 7, 18, 7, 18, 4, 21, 6, 19, 8, 22, 7, 5, 22, 5, 4, 21, 8, 19, 8, 18, 2, 18, 7, 18, 3, 6, 18, 8, 11, 21, 11, 21, -10, 20, 7, 22, 12, 19, 11, 71, 20, 12, 12, 22, 9, 20, 8, 20, 7, 20, 8, 19, 11, 7, 22, 7, 10, 18, 8, 18, 11, 21, 11, 22, 12, 21, 11, 9, 19, 10, 11, 22, 12, 21, 12, 19, 7, 19, 10, 20, 12, 9, 22, 12]\n"
     ]
    }
   ],
   "source": [
    "Z=[]\n",
    "for i in temp_1:\n",
    "    if i>q1-1.5*iqr and i<q3+15*iqr:\n",
    "        Z.append(i)\n",
    "    else:\n",
    "        Z.append('outlier')\n",
    "print(Z)"
   ]
  },
  {
   "cell_type": "code",
   "execution_count": 81,
   "id": "ba1ce0c6",
   "metadata": {},
   "outputs": [
    {
     "data": {
      "text/plain": [
       "array([['6', '32', '8', '29', '14', '31', '13', '27', '12', '29', '14',\n",
       "        '23', '6', '27'],\n",
       "       ['13', '21', '14', '26', '15', '32', 'outlier', '29', '14', '29',\n",
       "        '13', '30', '11', '30'],\n",
       "       ['10', '22', '7', '20', '13', '21', '10', '30', '11', '21', '10',\n",
       "        '28', '7', '21'],\n",
       "       ['7', '20', '8', '31', '8', '32', '8', '24', '8', '32', '6', '21',\n",
       "        '8', '30'],\n",
       "       ['14', '28', '14', '26', '15', '22', '6', '27', '9', '31', '11',\n",
       "        '23', '14', '26'],\n",
       "       ['6', '32', '11', '32', '11', '21', '9', '28', '13', '23', '7',\n",
       "        '28', '15', '21'],\n",
       "       ['11', '28', '15', '27', '13', '32', '8', '22', '11', '28', '11',\n",
       "        '23', '11', '30'],\n",
       "       ['7', '27', '8', '25', '6', '21', '6', '32', '15', '20', '15',\n",
       "        '22', '15', '23'],\n",
       "       ['2', '22', '8', '21', '2', '19', '6', '21', '5', '19', '2', '7',\n",
       "        '19', '7'],\n",
       "       ['4', '18', '8', '19', '4', '21', '4', '21', '3', '22', '2', '2',\n",
       "        '22', '6'],\n",
       "       ['7', '18', '7', '18', '4', '21', '6', '19', '8', '22', '7', '5',\n",
       "        '22', '5'],\n",
       "       ['4', '21', '8', '19', '8', '18', '2', '18', '7', '18', '3', '6',\n",
       "        '18', '8'],\n",
       "       ['11', '21', '11', '21', '-10', '20', '7', '22', '12', '19', '11',\n",
       "        '71', '20', '12'],\n",
       "       ['12', '22', '9', '20', '8', '20', '7', '20', '8', '19', '11',\n",
       "        '7', '22', '7'],\n",
       "       ['10', '18', '8', '18', '11', '21', '11', '22', '12', '21', '11',\n",
       "        '9', '19', '10'],\n",
       "       ['11', '22', '12', '21', '12', '19', '7', '19', '10', '20', '12',\n",
       "        '9', '22', '12']], dtype='<U11')"
      ]
     },
     "execution_count": 81,
     "metadata": {},
     "output_type": "execute_result"
    }
   ],
   "source": [
    "reshape=np.array(Z).reshape(16,14)\n",
    "reshape"
   ]
  },
  {
   "cell_type": "markdown",
   "id": "e0039889",
   "metadata": {},
   "source": [
    "**Q11 Replace the outliers with appropriate value**"
   ]
  },
  {
   "cell_type": "code",
   "execution_count": 83,
   "id": "02ffd1b9",
   "metadata": {},
   "outputs": [
    {
     "name": "stdout",
     "output_type": "stream",
     "text": [
      "[6, 32, 8, 29, 14, 31, 13, 27, 12, 29, 14, 23, 6, 27, 13, 21, 14, 26, 15, 32, 15.786, 29, 14, 29, 13, 30, 11, 30, 10, 22, 7, 20, 13, 21, 10, 30, 11, 21, 10, 28, 7, 21, 7, 20, 8, 31, 8, 32, 8, 24, 8, 32, 6, 21, 8, 30, 14, 28, 14, 26, 15, 22, 6, 27, 9, 31, 11, 23, 14, 26, 6, 32, 11, 32, 11, 21, 9, 28, 13, 23, 7, 28, 15, 21, 11, 28, 15, 27, 13, 32, 8, 22, 11, 28, 11, 23, 11, 30, 7, 27, 8, 25, 6, 21, 6, 32, 15, 20, 15, 22, 15, 23, 2, 22, 8, 21, 2, 19, 6, 21, 5, 19, 2, 7, 19, 7, 4, 18, 8, 19, 4, 21, 4, 21, 3, 22, 2, 2, 22, 6, 7, 18, 7, 18, 4, 21, 6, 19, 8, 22, 7, 5, 22, 5, 4, 21, 8, 19, 8, 18, 2, 18, 7, 18, 3, 6, 18, 8, 11, 21, 11, 21, -10, 20, 7, 22, 12, 19, 11, 71, 20, 12, 12, 22, 9, 20, 8, 20, 7, 20, 8, 19, 11, 7, 22, 7, 10, 18, 8, 18, 11, 21, 11, 22, 12, 21, 11, 9, 19, 10, 11, 22, 12, 21, 12, 19, 7, 19, 10, 20, 12, 9, 22, 12]\n"
     ]
    }
   ],
   "source": [
    "S=[]\n",
    "for i in Z:\n",
    "    if i!='outlier':\n",
    "        S.append(i)\n",
    "    else:\n",
    "        S.append(mean)\n",
    "print(S)\n",
    "        "
   ]
  },
  {
   "cell_type": "code",
   "execution_count": 84,
   "id": "3fd51d14",
   "metadata": {},
   "outputs": [
    {
     "data": {
      "text/plain": [
       "array([[  6.   ,  32.   ,   8.   ,  29.   ,  14.   ,  31.   ,  13.   ,\n",
       "         27.   ,  12.   ,  29.   ,  14.   ,  23.   ,   6.   ,  27.   ],\n",
       "       [ 13.   ,  21.   ,  14.   ,  26.   ,  15.   ,  32.   ,  15.786,\n",
       "         29.   ,  14.   ,  29.   ,  13.   ,  30.   ,  11.   ,  30.   ],\n",
       "       [ 10.   ,  22.   ,   7.   ,  20.   ,  13.   ,  21.   ,  10.   ,\n",
       "         30.   ,  11.   ,  21.   ,  10.   ,  28.   ,   7.   ,  21.   ],\n",
       "       [  7.   ,  20.   ,   8.   ,  31.   ,   8.   ,  32.   ,   8.   ,\n",
       "         24.   ,   8.   ,  32.   ,   6.   ,  21.   ,   8.   ,  30.   ],\n",
       "       [ 14.   ,  28.   ,  14.   ,  26.   ,  15.   ,  22.   ,   6.   ,\n",
       "         27.   ,   9.   ,  31.   ,  11.   ,  23.   ,  14.   ,  26.   ],\n",
       "       [  6.   ,  32.   ,  11.   ,  32.   ,  11.   ,  21.   ,   9.   ,\n",
       "         28.   ,  13.   ,  23.   ,   7.   ,  28.   ,  15.   ,  21.   ],\n",
       "       [ 11.   ,  28.   ,  15.   ,  27.   ,  13.   ,  32.   ,   8.   ,\n",
       "         22.   ,  11.   ,  28.   ,  11.   ,  23.   ,  11.   ,  30.   ],\n",
       "       [  7.   ,  27.   ,   8.   ,  25.   ,   6.   ,  21.   ,   6.   ,\n",
       "         32.   ,  15.   ,  20.   ,  15.   ,  22.   ,  15.   ,  23.   ],\n",
       "       [  2.   ,  22.   ,   8.   ,  21.   ,   2.   ,  19.   ,   6.   ,\n",
       "         21.   ,   5.   ,  19.   ,   2.   ,   7.   ,  19.   ,   7.   ],\n",
       "       [  4.   ,  18.   ,   8.   ,  19.   ,   4.   ,  21.   ,   4.   ,\n",
       "         21.   ,   3.   ,  22.   ,   2.   ,   2.   ,  22.   ,   6.   ],\n",
       "       [  7.   ,  18.   ,   7.   ,  18.   ,   4.   ,  21.   ,   6.   ,\n",
       "         19.   ,   8.   ,  22.   ,   7.   ,   5.   ,  22.   ,   5.   ],\n",
       "       [  4.   ,  21.   ,   8.   ,  19.   ,   8.   ,  18.   ,   2.   ,\n",
       "         18.   ,   7.   ,  18.   ,   3.   ,   6.   ,  18.   ,   8.   ],\n",
       "       [ 11.   ,  21.   ,  11.   ,  21.   , -10.   ,  20.   ,   7.   ,\n",
       "         22.   ,  12.   ,  19.   ,  11.   ,  71.   ,  20.   ,  12.   ],\n",
       "       [ 12.   ,  22.   ,   9.   ,  20.   ,   8.   ,  20.   ,   7.   ,\n",
       "         20.   ,   8.   ,  19.   ,  11.   ,   7.   ,  22.   ,   7.   ],\n",
       "       [ 10.   ,  18.   ,   8.   ,  18.   ,  11.   ,  21.   ,  11.   ,\n",
       "         22.   ,  12.   ,  21.   ,  11.   ,   9.   ,  19.   ,  10.   ],\n",
       "       [ 11.   ,  22.   ,  12.   ,  21.   ,  12.   ,  19.   ,   7.   ,\n",
       "         19.   ,  10.   ,  20.   ,  12.   ,   9.   ,  22.   ,  12.   ]])"
      ]
     },
     "execution_count": 84,
     "metadata": {},
     "output_type": "execute_result"
    }
   ],
   "source": [
    "reshape_2=np.array(S).reshape(16,14)\n",
    "reshape_2"
   ]
  },
  {
   "cell_type": "markdown",
   "id": "4b5ec3c3",
   "metadata": {},
   "source": [
    "**Q12 Find the average max temp for the winter month in Jaipur.**"
   ]
  },
  {
   "cell_type": "code",
   "execution_count": 85,
   "id": "c3140d5b",
   "metadata": {},
   "outputs": [
    {
     "data": {
      "text/plain": [
       "array([[32, 29, 31, 27, 29, 23, 27],\n",
       "       [21, 26, 32, 29, 29, 30, 30],\n",
       "       [22, 20, 21, 30, 21, 28, 21],\n",
       "       [20, 31, 32, 24, 32, 21, 30],\n",
       "       [28, 26, 22, 27, 31, 23, 26],\n",
       "       [32, 32, 21, 28, 23, 28, 21],\n",
       "       [28, 27, 32, 22, 28, 23, 30],\n",
       "       [27, 25, 21, 32, 20, 22, 23],\n",
       "       [22, 21, 19, 21, 19,  7,  7],\n",
       "       [18, 19, 21, 21, 22,  2,  6],\n",
       "       [18, 18, 21, 19, 22,  5,  5],\n",
       "       [21, 19, 18, 18, 18,  6,  8],\n",
       "       [21, 21, 20, 22, 19, 71, 12],\n",
       "       [22, 20, 20, 20, 19,  7,  7],\n",
       "       [18, 18, 21, 22, 21,  9, 10],\n",
       "       [22, 21, 19, 19, 20,  9, 12]])"
      ]
     },
     "execution_count": 85,
     "metadata": {},
     "output_type": "execute_result"
    }
   ],
   "source": [
    "temp=max_temp[2:,2:].astype(int)\n",
    "temp"
   ]
  },
  {
   "cell_type": "code",
   "execution_count": 86,
   "id": "17ea9069",
   "metadata": {},
   "outputs": [
    {
     "data": {
      "text/plain": [
       "71"
      ]
     },
     "execution_count": 86,
     "metadata": {},
     "output_type": "execute_result"
    }
   ],
   "source": [
    "np.max(temp)"
   ]
  },
  {
   "cell_type": "code",
   "execution_count": 87,
   "id": "9c18a629",
   "metadata": {},
   "outputs": [
    {
     "data": {
      "text/plain": [
       "21.955357142857142"
      ]
     },
     "execution_count": 87,
     "metadata": {},
     "output_type": "execute_result"
    }
   ],
   "source": [
    "np.mean(temp)"
   ]
  },
  {
   "cell_type": "code",
   "execution_count": 88,
   "id": "019e45c5",
   "metadata": {},
   "outputs": [
    {
     "data": {
      "text/plain": [
       "21.0"
      ]
     },
     "execution_count": 88,
     "metadata": {},
     "output_type": "execute_result"
    }
   ],
   "source": [
    "np.median(temp)"
   ]
  },
  {
   "cell_type": "markdown",
   "id": "6898e6af",
   "metadata": {},
   "source": [
    "**Q13 Find the weekly min average temp for the month of dec in jaipur.**"
   ]
  },
  {
   "cell_type": "code",
   "execution_count": 89,
   "id": "a94336ed",
   "metadata": {},
   "outputs": [
    {
     "data": {
      "text/plain": [
       "array([['Month', 'Week', 'Monday', 'Tuesday', 'Wednesday', 'Thursday',\n",
       "        'Friday', 'Saturday', 'Sunday'],\n",
       "       ['November', '', 'Min Temp', 'Min Temp', 'Min Temp', 'Min Temp',\n",
       "        'Min Temp', 'Min Temp', 'Min Temp'],\n",
       "       ['November', 'Week 1', '6', '8', '14', '13', '12', '14', '6'],\n",
       "       ['November', 'Week 2', '13', '14', '15', '-13', '14', '13', '11'],\n",
       "       ['November', 'Week 3', '10', '7', '13', '10', '11', '10', '7'],\n",
       "       ['November', 'Week 4', '7', '8', '8', '8', '8', '6', '8'],\n",
       "       ['December', 'Week 1', '14', '14', '15', '6', '9', '11', '14'],\n",
       "       ['December', 'Week 2', '6', '11', '11', '9', '13', '7', '15'],\n",
       "       ['December', 'Week 3', '11', '15', '13', '8', '11', '11', '11'],\n",
       "       ['December', 'Week 4', '7', '8', '6', '6', '15', '15', '15'],\n",
       "       ['January', 'Week 1', '2', '8', '2', '6', '5', '2', '19'],\n",
       "       ['January', 'Week 2', '4', '8', '4', '4', '3', '2', '22'],\n",
       "       ['January', 'Week 3', '7', '7', '4', '6', '8', '7', '22'],\n",
       "       ['January', 'Week 4', '4', '8', '8', '2', '7', '3', '18'],\n",
       "       ['February', 'Week 1', '11', '11', '-10', '7', '12', '11', '20'],\n",
       "       ['February', 'Week 2', '12', '9', '8', '7', '8', '11', '22'],\n",
       "       ['February', 'Week 3', '10', '8', '11', '11', '12', '11', '19'],\n",
       "       ['February', 'Week 4', '11', '12', '12', '7', '10', '12', '22']],\n",
       "      dtype='<U16')"
      ]
     },
     "execution_count": 89,
     "metadata": {},
     "output_type": "execute_result"
    }
   ],
   "source": [
    "min_temp"
   ]
  },
  {
   "cell_type": "code",
   "execution_count": 91,
   "id": "9c37ae5a",
   "metadata": {},
   "outputs": [],
   "source": [
    "dec_min_w1=min_temp[6:7,2:].astype(int)\n",
    "dec_min_w2=min_temp[7:8,2:].astype(int)\n",
    "dec_min_w3=min_temp[8:9,2:].astype(int)\n",
    "dec_min_w4=min_temp[9:10,2:].astype(int)"
   ]
  },
  {
   "cell_type": "code",
   "execution_count": 92,
   "id": "def586d6",
   "metadata": {},
   "outputs": [
    {
     "name": "stdout",
     "output_type": "stream",
     "text": [
      "Min. avg.temp. of week 1 :-  11.857142857142858\n",
      "Min. avg.temp. of week 2 :-  10.285714285714286\n",
      "Min. avg.temp. of week 3 :-  11.428571428571429\n",
      "Min. avg.temp. of week 4 :-  10.285714285714286\n"
     ]
    }
   ],
   "source": [
    "print(\"Min. avg.temp. of week 1 :- \",np.mean(dec_min_w1))\n",
    "print(\"Min. avg.temp. of week 2 :- \",np.mean(dec_min_w2))\n",
    "print(\"Min. avg.temp. of week 3 :- \",np.mean(dec_min_w3))\n",
    "print(\"Min. avg.temp. of week 4 :- \",np.mean(dec_min_w4))"
   ]
  },
  {
   "cell_type": "markdown",
   "id": "5c027677",
   "metadata": {},
   "source": [
    "**Q14 Find the overall average temp for the month of Dec and Jan.**"
   ]
  },
  {
   "cell_type": "code",
   "execution_count": 93,
   "id": "94e13765",
   "metadata": {},
   "outputs": [
    {
     "data": {
      "text/plain": [
       "array([['Month', 'Week', 'Monday', 'Monday', 'Tuesday', 'Tuesday',\n",
       "        'Wednesday', 'Wednesday', 'Thursday', 'Thursday', 'Friday',\n",
       "        'Friday', 'Saturday', 'Saturday', 'Sunday', 'Sunday'],\n",
       "       ['November', '', 'Min Temp', 'Max Temp', 'Min Temp', 'Max Temp',\n",
       "        'Min Temp', 'Max Temp', 'Min Temp', 'Max Temp', 'Min Temp',\n",
       "        'Max Temp', 'Min Temp', 'Max Temp', 'Min Temp', 'Max Temp'],\n",
       "       ['November', 'Week 1', '6', '32', '8', '29', '14', '31', '13',\n",
       "        '27', '12', '29', '14', '23', '6', '27']], dtype='<U16')"
      ]
     },
     "execution_count": 93,
     "metadata": {},
     "output_type": "execute_result"
    }
   ],
   "source": [
    "data[0:3]"
   ]
  },
  {
   "cell_type": "code",
   "execution_count": 94,
   "id": "4edead28",
   "metadata": {},
   "outputs": [
    {
     "data": {
      "text/plain": [
       "array([[14, 28, 14, 26, 15, 22,  6, 27,  9, 31, 11, 23, 14, 26],\n",
       "       [ 6, 32, 11, 32, 11, 21,  9, 28, 13, 23,  7, 28, 15, 21],\n",
       "       [11, 28, 15, 27, 13, 32,  8, 22, 11, 28, 11, 23, 11, 30],\n",
       "       [ 7, 27,  8, 25,  6, 21,  6, 32, 15, 20, 15, 22, 15, 23]])"
      ]
     },
     "execution_count": 94,
     "metadata": {},
     "output_type": "execute_result"
    }
   ],
   "source": [
    "cond_dec=data[0:,0]=='December'\n",
    "dec_temp=data[cond_dec]\n",
    "dec_temp=dec_temp[:,2:].astype(int)\n",
    "dec_temp"
   ]
  },
  {
   "cell_type": "code",
   "execution_count": 95,
   "id": "3c6a562c",
   "metadata": {},
   "outputs": [
    {
     "data": {
      "text/plain": [
       "array([[ 2, 22,  8, 21,  2, 19,  6, 21,  5, 19,  2,  7, 19,  7],\n",
       "       [ 4, 18,  8, 19,  4, 21,  4, 21,  3, 22,  2,  2, 22,  6],\n",
       "       [ 7, 18,  7, 18,  4, 21,  6, 19,  8, 22,  7,  5, 22,  5],\n",
       "       [ 4, 21,  8, 19,  8, 18,  2, 18,  7, 18,  3,  6, 18,  8]])"
      ]
     },
     "execution_count": 95,
     "metadata": {},
     "output_type": "execute_result"
    }
   ],
   "source": [
    "cond_jan=data[0:,0]=='January'\n",
    "jan_temp=data[cond_jan]\n",
    "jan_temp=jan_temp[:,2:].astype(int)\n",
    "jan_temp"
   ]
  },
  {
   "cell_type": "code",
   "execution_count": 96,
   "id": "3a0ffd21",
   "metadata": {},
   "outputs": [
    {
     "data": {
      "text/plain": [
       "18.482142857142858"
      ]
     },
     "execution_count": 96,
     "metadata": {},
     "output_type": "execute_result"
    }
   ],
   "source": [
    "M1=np.mean(dec_temp)"
   ]
  },
  {
   "cell_type": "code",
   "execution_count": 97,
   "id": "1a18adf6",
   "metadata": {},
   "outputs": [
    {
     "data": {
      "text/plain": [
       "11.482142857142858"
      ]
     },
     "execution_count": 97,
     "metadata": {},
     "output_type": "execute_result"
    }
   ],
   "source": [
    "M2=np.mean(jan_temp)"
   ]
  },
  {
   "cell_type": "code",
   "execution_count": 100,
   "id": "83660eee",
   "metadata": {},
   "outputs": [
    {
     "data": {
      "text/plain": [
       "14.982142857142858"
      ]
     },
     "execution_count": 100,
     "metadata": {},
     "output_type": "execute_result"
    }
   ],
   "source": [
    "np.mean(np.vstack((dec_temp,jan_temp)))"
   ]
  },
  {
   "cell_type": "markdown",
   "id": "6d482e1f",
   "metadata": {},
   "source": [
    "**Q15 Find the least temperature experienced by the city in the month of December and January . Also Print the exact date of the same.**"
   ]
  },
  {
   "cell_type": "code",
   "execution_count": 129,
   "id": "a1a1c270",
   "metadata": {},
   "outputs": [
    {
     "data": {
      "text/plain": [
       "array([[14, 28, 14, 26, 15, 22,  6, 27,  9, 31, 11, 23, 14, 26],\n",
       "       [ 6, 32, 11, 32, 11, 21,  9, 28, 13, 23,  7, 28, 15, 21],\n",
       "       [11, 28, 15, 27, 13, 32,  8, 22, 11, 28, 11, 23, 11, 30],\n",
       "       [ 7, 27,  8, 25,  6, 21,  6, 32, 15, 20, 15, 22, 15, 23],\n",
       "       [ 2, 22,  8, 21,  2, 19,  6, 21,  5, 19,  2,  7, 19,  7],\n",
       "       [ 4, 18,  8, 19,  4, 21,  4, 21,  3, 22,  2,  2, 22,  6],\n",
       "       [ 7, 18,  7, 18,  4, 21,  6, 19,  8, 22,  7,  5, 22,  5],\n",
       "       [ 4, 21,  8, 19,  8, 18,  2, 18,  7, 18,  3,  6, 18,  8]])"
      ]
     },
     "execution_count": 129,
     "metadata": {},
     "output_type": "execute_result"
    }
   ],
   "source": [
    "dec_jan_temp=np.vstack((dec_temp,jan_temp))\n",
    "dec_jan_temp"
   ]
  },
  {
   "cell_type": "code",
   "execution_count": 130,
   "id": "9e289052",
   "metadata": {},
   "outputs": [
    {
     "data": {
      "text/plain": [
       "2"
      ]
     },
     "execution_count": 130,
     "metadata": {},
     "output_type": "execute_result"
    }
   ],
   "source": [
    "least_temp=np.min(dec_jan_temp)\n",
    "least_temp"
   ]
  },
  {
   "cell_type": "code",
   "execution_count": 131,
   "id": "c9241b40",
   "metadata": {},
   "outputs": [],
   "source": [
    "d_j=np.hstack((data[6:14,0:2],dec_jan_temp[:,:]))"
   ]
  },
  {
   "cell_type": "code",
   "execution_count": 132,
   "id": "0532ad78",
   "metadata": {},
   "outputs": [],
   "source": [
    "d_j=np.vstack((data[0:2,:],d_j))"
   ]
  },
  {
   "cell_type": "code",
   "execution_count": 133,
   "id": "b73b3ae4",
   "metadata": {},
   "outputs": [
    {
     "data": {
      "text/plain": [
       "array([['Month', 'Week', 'Monday', 'Monday', 'Tuesday', 'Tuesday',\n",
       "        'Wednesday', 'Wednesday', 'Thursday', 'Thursday', 'Friday',\n",
       "        'Friday', 'Saturday', 'Saturday', 'Sunday', 'Sunday'],\n",
       "       ['November', '', 'Min Temp', 'Max Temp', 'Min Temp', 'Max Temp',\n",
       "        'Min Temp', 'Max Temp', 'Min Temp', 'Max Temp', 'Min Temp',\n",
       "        'Max Temp', 'Min Temp', 'Max Temp', 'Min Temp', 'Max Temp'],\n",
       "       ['December', 'Week 1', '14', '28', '14', '26', '15', '22', '6',\n",
       "        '27', '9', '31', '11', '23', '14', '26'],\n",
       "       ['December', 'Week 2', '6', '32', '11', '32', '11', '21', '9',\n",
       "        '28', '13', '23', '7', '28', '15', '21'],\n",
       "       ['December', 'Week 3', '11', '28', '15', '27', '13', '32', '8',\n",
       "        '22', '11', '28', '11', '23', '11', '30'],\n",
       "       ['December', 'Week 4', '7', '27', '8', '25', '6', '21', '6', '32',\n",
       "        '15', '20', '15', '22', '15', '23'],\n",
       "       ['January', 'Week 1', '2', '22', '8', '21', '2', '19', '6', '21',\n",
       "        '5', '19', '2', '7', '19', '7'],\n",
       "       ['January', 'Week 2', '4', '18', '8', '19', '4', '21', '4', '21',\n",
       "        '3', '22', '2', '2', '22', '6'],\n",
       "       ['January', 'Week 3', '7', '18', '7', '18', '4', '21', '6', '19',\n",
       "        '8', '22', '7', '5', '22', '5'],\n",
       "       ['January', 'Week 4', '4', '21', '8', '19', '8', '18', '2', '18',\n",
       "        '7', '18', '3', '6', '18', '8']], dtype='<U16')"
      ]
     },
     "execution_count": 133,
     "metadata": {},
     "output_type": "execute_result"
    }
   ],
   "source": [
    "d_j"
   ]
  },
  {
   "cell_type": "code",
   "execution_count": 134,
   "id": "51c1f580",
   "metadata": {},
   "outputs": [
    {
     "data": {
      "text/plain": [
       "array([False, False, False, False, False, False,  True, False, False,\n",
       "       False])"
      ]
     },
     "execution_count": 134,
     "metadata": {},
     "output_type": "execute_result"
    }
   ],
   "source": [
    "cod=d_j[:,2]=='2'\n",
    "cod"
   ]
  },
  {
   "cell_type": "code",
   "execution_count": 135,
   "id": "4284f06f",
   "metadata": {},
   "outputs": [
    {
     "data": {
      "text/plain": [
       "array([False, False, False, False, False, False, False, False, False,\n",
       "       False])"
      ]
     },
     "execution_count": 135,
     "metadata": {},
     "output_type": "execute_result"
    }
   ],
   "source": [
    "cod=d_j[:,3]=='2'\n",
    "cod"
   ]
  },
  {
   "cell_type": "code",
   "execution_count": 136,
   "id": "fc670cda",
   "metadata": {},
   "outputs": [
    {
     "data": {
      "text/plain": [
       "array([False, False, False, False, False, False, False, False, False,\n",
       "       False])"
      ]
     },
     "execution_count": 136,
     "metadata": {},
     "output_type": "execute_result"
    }
   ],
   "source": [
    "cod=d_j[:,4]=='2'\n",
    "cod"
   ]
  },
  {
   "cell_type": "code",
   "execution_count": 137,
   "id": "94951dc4",
   "metadata": {},
   "outputs": [
    {
     "data": {
      "text/plain": [
       "array([], shape=(0, 16), dtype='<U16')"
      ]
     },
     "execution_count": 137,
     "metadata": {},
     "output_type": "execute_result"
    }
   ],
   "source": [
    "d_j[cod]"
   ]
  },
  {
   "cell_type": "code",
   "execution_count": null,
   "id": "99d1d9e6",
   "metadata": {},
   "outputs": [],
   "source": []
  }
 ],
 "metadata": {
  "kernelspec": {
   "display_name": "Python 3 (ipykernel)",
   "language": "python",
   "name": "python3"
  },
  "language_info": {
   "codemirror_mode": {
    "name": "ipython",
    "version": 3
   },
   "file_extension": ".py",
   "mimetype": "text/x-python",
   "name": "python",
   "nbconvert_exporter": "python",
   "pygments_lexer": "ipython3",
   "version": "3.11.1"
  }
 },
 "nbformat": 4,
 "nbformat_minor": 5
}
